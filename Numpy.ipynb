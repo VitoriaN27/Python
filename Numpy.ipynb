{
 "cells": [
  {
   "cell_type": "code",
   "execution_count": 174,
   "id": "0e66aae1",
   "metadata": {},
   "outputs": [],
   "source": [
    "import numpy as np"
   ]
  },
  {
   "cell_type": "code",
   "execution_count": 175,
   "id": "29f6a8a6",
   "metadata": {},
   "outputs": [
    {
     "name": "stdout",
     "output_type": "stream",
     "text": [
      "[12 34 26 18 10]\n",
      "<class 'numpy.ndarray'>\n"
     ]
    }
   ],
   "source": [
    "#criar uma matriz unidimensional \n",
    "mt = np.array([12,34,26,18,10]) \n",
    "print(mt)\n",
    "print(type(mt))"
   ]
  },
  {
   "cell_type": "code",
   "execution_count": 176,
   "id": "b94956c9",
   "metadata": {},
   "outputs": [
    {
     "name": "stdout",
     "output_type": "stream",
     "text": [
      "[1. 2. 3.]\n",
      "<class 'numpy.ndarray'>\n",
      "[1 2 3]\n",
      "<class 'numpy.ndarray'>\n"
     ]
    }
   ],
   "source": [
    "#criar o array com um tipo especifico \n",
    "# cria o array como float de 64 bits\n",
    "mtfloat = np.array([1, 2, 3], dtype = np.float64)  \n",
    "print(mtfloat)\n",
    "print(type(mtfloat))\n",
    "mtint = np.array([1, 2, 3], dtype = np.int32)\n",
    "print(mtint)\n",
    "print(type(mtint))"
   ]
  },
  {
   "cell_type": "code",
   "execution_count": 177,
   "id": "eb93f3f5",
   "metadata": {},
   "outputs": [
    {
     "name": "stdout",
     "output_type": "stream",
     "text": [
      "[ 1.4       3.6      -5.        1.        9.42      4.999999]\n",
      "[ 1  3 -5  1  9  4]\n"
     ]
    }
   ],
   "source": [
    "#mudar o tipo de array \n",
    "#pode transforma tipo de dados de arrays \n",
    "mtnew = np.array([1.4, 3.6, -5,1, 9.42, 4.999999])\n",
    "print(mtnew)\n",
    "\n",
    "# quando transforma de float para int os valores são truncados\n",
    "mtnewint = mtnew.astype(np.int32)\n",
    "print(mtnewint)\n"
   ]
  },
  {
   "cell_type": "code",
   "execution_count": 178,
   "id": "370c4674",
   "metadata": {},
   "outputs": [
    {
     "name": "stdout",
     "output_type": "stream",
     "text": [
      "[1 2 3 4]\n",
      "[1. 2. 3. 4.]\n"
     ]
    }
   ],
   "source": [
    "# podemos fazer o inverso tbm \n",
    "mt5 = np.array([1, 2, 3, 4])\n",
    "print(mt5)\n",
    "mt6 = mt5.astype(float)\n",
    "print(mt6)"
   ]
  },
  {
   "cell_type": "code",
   "execution_count": 179,
   "id": "a53b3aff",
   "metadata": {},
   "outputs": [
    {
     "name": "stdout",
     "output_type": "stream",
     "text": [
      "[[ 7  2 23]\n",
      " [12 27  4]\n",
      " [ 5 34 23]]\n"
     ]
    }
   ],
   "source": [
    "#mais de uma dimensão \n",
    "#Criar uma matriz bidimensional \n",
    "mt7 = np.array([[7,2,23], [12,27,4], [5,34,23]])\n",
    "print(mt7)"
   ]
  },
  {
   "cell_type": "code",
   "execution_count": 180,
   "id": "ae952e04",
   "metadata": {},
   "outputs": [
    {
     "name": "stdout",
     "output_type": "stream",
     "text": [
      "[[4608983858650965606 4615288898129284301]\n",
      " [4617315517961601024 4607182418800017408]\n",
      " [4621492606615987159 4617315516835701117]]\n",
      "-------\n"
     ]
    }
   ],
   "source": [
    "#criar arrays vazios tipificados\n",
    "#empty significa que não são inicializadas, não que são vazias\n",
    "vzo = np.empty([3,2], dtype = int)\n",
    "print(vzo)\n",
    "print(\"-------\")"
   ]
  },
  {
   "cell_type": "code",
   "execution_count": 181,
   "id": "1cb5ad62",
   "metadata": {},
   "outputs": [
    {
     "name": "stdout",
     "output_type": "stream",
     "text": [
      "[[0. 0. 0.]\n",
      " [0. 0. 0.]\n",
      " [0. 0. 0.]\n",
      " [0. 0. 0.]]\n",
      "-------\n"
     ]
    }
   ],
   "source": [
    "#criar uma matriz 4x3 com valores zero\n",
    "zeros = np.zeros([4,3])\n",
    "print(zeros)\n",
    "print(\"-------\")"
   ]
  },
  {
   "cell_type": "code",
   "execution_count": 182,
   "id": "b5bc491a",
   "metadata": {},
   "outputs": [
    {
     "name": "stdout",
     "output_type": "stream",
     "text": [
      "[[0. 0. 0. 0. 0. 0. 0.]\n",
      " [0. 0. 0. 0. 0. 0. 0.]\n",
      " [0. 0. 0. 0. 0. 0. 0.]\n",
      " [0. 0. 0. 0. 0. 0. 0.]\n",
      " [0. 0. 0. 0. 0. 0. 0.]]\n",
      "-------\n"
     ]
    }
   ],
   "source": [
    "#com valores igual a um \n",
    "um = np.zeros([5,7])\n",
    "print(um)\n",
    "print(\"-------\")"
   ]
  },
  {
   "cell_type": "code",
   "execution_count": 183,
   "id": "c2b81a49",
   "metadata": {},
   "outputs": [
    {
     "name": "stdout",
     "output_type": "stream",
     "text": [
      "[[1. 0. 0. 0. 0.]\n",
      " [0. 1. 0. 0. 0.]\n",
      " [0. 0. 1. 0. 0.]\n",
      " [0. 0. 0. 1. 0.]\n",
      " [0. 0. 0. 0. 1.]]\n"
     ]
    }
   ],
   "source": [
    "#criar matriz quadrada com diagonal principal com valores 1 e os outros valores zero\n",
    "diagonal = np.eye(5)\n",
    "print(diagonal)"
   ]
  },
  {
   "cell_type": "code",
   "execution_count": 184,
   "id": "7f5dd41d",
   "metadata": {},
   "outputs": [
    {
     "name": "stdout",
     "output_type": "stream",
     "text": [
      "[0.94714166 0.15719008 0.9172115  0.77975719 0.60093451]\n",
      "-------\n"
     ]
    }
   ],
   "source": [
    "#valores aleatorios entre zero e um \n",
    "ale = np.random.random((5))\n",
    "print(ale)\n",
    "print(\"-------\")"
   ]
  },
  {
   "cell_type": "code",
   "execution_count": 185,
   "id": "cd974d79",
   "metadata": {},
   "outputs": [
    {
     "name": "stdout",
     "output_type": "stream",
     "text": [
      "[0.27088966 0.64213504 0.6841649  0.77654111 0.62949346]\n",
      "-------\n"
     ]
    }
   ],
   "source": [
    "#valores aleatórios distr. normal contendo negativos \n",
    "ale2 = np.random.rand((5))\n",
    "print(ale2)\n",
    "print(\"-------\")"
   ]
  },
  {
   "cell_type": "code",
   "execution_count": 186,
   "id": "080135db",
   "metadata": {},
   "outputs": [
    {
     "name": "stdout",
     "output_type": "stream",
     "text": [
      "[[4.68890276 9.39847766 7.08981268 1.77986991]\n",
      " [6.77730774 5.00042397 3.70209161 7.67290761]\n",
      " [5.00599123 7.38331965 2.46893874 1.56592292]]\n"
     ]
    }
   ],
   "source": [
    "#valores aleatorios 4x3\n",
    "ale3 = (10*np.random.random((3,4)))\n",
    "print(ale3)"
   ]
  },
  {
   "cell_type": "code",
   "execution_count": 187,
   "id": "3aefb70f",
   "metadata": {},
   "outputs": [
    {
     "name": "stdout",
     "output_type": "stream",
     "text": [
      "[0.51182162 0.9504637  0.14415961]\n"
     ]
    }
   ],
   "source": [
    "#outra forma de gerar aleatorio \n",
    "#uso de semente\n",
    "\n",
    "gnr = np.random.default_rng(1)\n",
    "ale5 = gnr.random(3)\n",
    "print(ale5)\n"
   ]
  },
  {
   "cell_type": "code",
   "execution_count": 188,
   "id": "9b338237",
   "metadata": {},
   "outputs": [
    {
     "name": "stdout",
     "output_type": "stream",
     "text": [
      "[[8 9 2 3]\n",
      " [8 4 2 8]\n",
      " [2 4 6 5]]\n"
     ]
    }
   ],
   "source": [
    "#gerar inteiros\n",
    "ale6 = gnr.integers(10, size=(3,4))\n",
    "print(ale6)"
   ]
  },
  {
   "cell_type": "code",
   "execution_count": 189,
   "id": "d9ba476d",
   "metadata": {},
   "outputs": [
    {
     "name": "stdout",
     "output_type": "stream",
     "text": [
      "[11 12 13 14 15 16 17 18 19 20]\n"
     ]
    }
   ],
   "source": [
    "#unique remove repetições \n",
    "\n",
    "j = np.array([11, 12, 13, 14, 15, 16, 17, 12, 13, 11, 18, 19, 20])\n",
    "j = np.unique(j)\n",
    "print(j)"
   ]
  },
  {
   "cell_type": "code",
   "execution_count": 190,
   "id": "99fa2dee",
   "metadata": {},
   "outputs": [
    {
     "name": "stdout",
     "output_type": "stream",
     "text": [
      "[[17 23 44]\n",
      " [28 24 15]\n",
      " [14 25 33]]\n",
      "23\n",
      "(3, 3)\n"
     ]
    }
   ],
   "source": [
    "#funções especificas\n",
    "#criar matriz bidimensional \n",
    "k = np.array([[17,23,44], [28,24,15], [14,25,33]])\n",
    "# mostrar a matriz k \n",
    "print(k)\n",
    "# mostrar um elemento especifico de matriz k\n",
    "print(k[0][1])\n",
    "#mostra o tamanho das dimensões da matriz k \n",
    "print(k.shape)"
   ]
  },
  {
   "cell_type": "code",
   "execution_count": 191,
   "id": "37412445",
   "metadata": {},
   "outputs": [
    {
     "name": "stdout",
     "output_type": "stream",
     "text": [
      "44\n",
      "14\n",
      "223\n",
      "24.77777777777778\n",
      "8.966329334147563\n"
     ]
    }
   ],
   "source": [
    "#funções matemáticas \n",
    "#mostra o maior valor da matriz k\n",
    "print(k.max())\n",
    "#mostra o menor valor da matriz k\n",
    "print(k.min())\n",
    "#mostra a soma dos valores da matriz k\n",
    "print((k.sum()))\n",
    "#mostra o valor da media dos valores da matriz k\n",
    "print(k.mean())\n",
    "#mostra o valor do desvio padrão (standard deviation)dos valores matriz k\n",
    "print(k.std())"
   ]
  }
 ],
 "metadata": {
  "kernelspec": {
   "display_name": "meu_ambiente_virtual",
   "language": "python",
   "name": "python3"
  },
  "language_info": {
   "codemirror_mode": {
    "name": "ipython",
    "version": 3
   },
   "file_extension": ".py",
   "mimetype": "text/x-python",
   "name": "python",
   "nbconvert_exporter": "python",
   "pygments_lexer": "ipython3",
   "version": "3.12.3"
  }
 },
 "nbformat": 4,
 "nbformat_minor": 5
}
