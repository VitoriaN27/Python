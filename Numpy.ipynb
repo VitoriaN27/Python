{
 "cells": [
  {
   "cell_type": "code",
   "execution_count": 299,
   "id": "0e66aae1",
   "metadata": {},
   "outputs": [],
   "source": [
    "import numpy as np"
   ]
  },
  {
   "cell_type": "code",
   "execution_count": 300,
   "id": "29f6a8a6",
   "metadata": {},
   "outputs": [
    {
     "name": "stdout",
     "output_type": "stream",
     "text": [
      "[12 34 26 18 10]\n",
      "<class 'numpy.ndarray'>\n"
     ]
    }
   ],
   "source": [
    "#criar uma matriz unidimensional \n",
    "mt = np.array([12,34,26,18,10]) \n",
    "print(mt)\n",
    "print(type(mt))"
   ]
  },
  {
   "cell_type": "code",
   "execution_count": 301,
   "id": "b94956c9",
   "metadata": {},
   "outputs": [
    {
     "name": "stdout",
     "output_type": "stream",
     "text": [
      "[1. 2. 3.]\n",
      "<class 'numpy.ndarray'>\n",
      "[1 2 3]\n",
      "<class 'numpy.ndarray'>\n"
     ]
    }
   ],
   "source": [
    "#criar o array com um tipo especifico \n",
    "# cria o array como float de 64 bits\n",
    "mtfloat = np.array([1, 2, 3], dtype = np.float64)  \n",
    "print(mtfloat)\n",
    "print(type(mtfloat))\n",
    "mtint = np.array([1, 2, 3], dtype = np.int32)\n",
    "print(mtint)\n",
    "print(type(mtint))"
   ]
  },
  {
   "cell_type": "code",
   "execution_count": 302,
   "id": "eb93f3f5",
   "metadata": {},
   "outputs": [
    {
     "name": "stdout",
     "output_type": "stream",
     "text": [
      "[ 1.4       3.6      -5.        1.        9.42      4.999999]\n",
      "[ 1  3 -5  1  9  4]\n"
     ]
    }
   ],
   "source": [
    "#mudar o tipo de array \n",
    "#pode transforma tipo de dados de arrays \n",
    "mtnew = np.array([1.4, 3.6, -5,1, 9.42, 4.999999])\n",
    "print(mtnew)\n",
    "\n",
    "# quando transforma de float para int os valores são truncados\n",
    "mtnewint = mtnew.astype(np.int32)\n",
    "print(mtnewint)\n"
   ]
  },
  {
   "cell_type": "code",
   "execution_count": 303,
   "id": "370c4674",
   "metadata": {},
   "outputs": [
    {
     "name": "stdout",
     "output_type": "stream",
     "text": [
      "[1 2 3 4]\n",
      "[1. 2. 3. 4.]\n"
     ]
    }
   ],
   "source": [
    "# podemos fazer o inverso tbm \n",
    "mt5 = np.array([1, 2, 3, 4])\n",
    "print(mt5)\n",
    "mt6 = mt5.astype(float)\n",
    "print(mt6)"
   ]
  },
  {
   "cell_type": "code",
   "execution_count": 304,
   "id": "a53b3aff",
   "metadata": {},
   "outputs": [
    {
     "name": "stdout",
     "output_type": "stream",
     "text": [
      "[[ 7  2 23]\n",
      " [12 27  4]\n",
      " [ 5 34 23]]\n"
     ]
    }
   ],
   "source": [
    "#mais de uma dimensão \n",
    "#Criar uma matriz bidimensional \n",
    "mt7 = np.array([[7,2,23], [12,27,4], [5,34,23]])\n",
    "print(mt7)"
   ]
  },
  {
   "cell_type": "code",
   "execution_count": 305,
   "id": "ae952e04",
   "metadata": {},
   "outputs": [
    {
     "name": "stdout",
     "output_type": "stream",
     "text": [
      "[[4608983858650965606 4615288898129284301]\n",
      " [4617315517961601024 4607182418800017408]\n",
      " [4621492606615987159 4617315516835701117]]\n",
      "-------\n"
     ]
    }
   ],
   "source": [
    "#criar arrays vazios tipificados\n",
    "#empty significa que não são inicializadas, não que são vazias\n",
    "vzo = np.empty([3,2], dtype = int)\n",
    "print(vzo)\n",
    "print(\"-------\")"
   ]
  },
  {
   "cell_type": "code",
   "execution_count": 306,
   "id": "1cb5ad62",
   "metadata": {},
   "outputs": [
    {
     "name": "stdout",
     "output_type": "stream",
     "text": [
      "[[0. 0. 0.]\n",
      " [0. 0. 0.]\n",
      " [0. 0. 0.]\n",
      " [0. 0. 0.]]\n",
      "-------\n"
     ]
    }
   ],
   "source": [
    "#criar uma matriz 4x3 com valores zero\n",
    "zeros = np.zeros([4,3])\n",
    "print(zeros)\n",
    "print(\"-------\")"
   ]
  },
  {
   "cell_type": "code",
   "execution_count": 307,
   "id": "b5bc491a",
   "metadata": {},
   "outputs": [
    {
     "name": "stdout",
     "output_type": "stream",
     "text": [
      "[[0. 0. 0. 0. 0. 0. 0.]\n",
      " [0. 0. 0. 0. 0. 0. 0.]\n",
      " [0. 0. 0. 0. 0. 0. 0.]\n",
      " [0. 0. 0. 0. 0. 0. 0.]\n",
      " [0. 0. 0. 0. 0. 0. 0.]]\n",
      "-------\n"
     ]
    }
   ],
   "source": [
    "#com valores igual a um \n",
    "um = np.zeros([5,7])\n",
    "print(um)\n",
    "print(\"-------\")"
   ]
  },
  {
   "cell_type": "code",
   "execution_count": 308,
   "id": "c2b81a49",
   "metadata": {},
   "outputs": [
    {
     "name": "stdout",
     "output_type": "stream",
     "text": [
      "[[1. 0. 0. 0. 0.]\n",
      " [0. 1. 0. 0. 0.]\n",
      " [0. 0. 1. 0. 0.]\n",
      " [0. 0. 0. 1. 0.]\n",
      " [0. 0. 0. 0. 1.]]\n"
     ]
    }
   ],
   "source": [
    "#criar matriz quadrada com diagonal principal com valores 1 e os outros valores zero\n",
    "diagonal = np.eye(5)\n",
    "print(diagonal)"
   ]
  },
  {
   "cell_type": "code",
   "execution_count": 309,
   "id": "7f5dd41d",
   "metadata": {},
   "outputs": [
    {
     "name": "stdout",
     "output_type": "stream",
     "text": [
      "[0.41696995 0.78860758 0.0153496  0.72207436 0.11666965]\n",
      "-------\n"
     ]
    }
   ],
   "source": [
    "#valores aleatorios entre zero e um \n",
    "ale = np.random.random((5))\n",
    "print(ale)\n",
    "print(\"-------\")"
   ]
  },
  {
   "cell_type": "code",
   "execution_count": 310,
   "id": "cd974d79",
   "metadata": {},
   "outputs": [
    {
     "name": "stdout",
     "output_type": "stream",
     "text": [
      "[0.56190819 0.7513807  0.70998441 0.33652274 0.93630203]\n",
      "-------\n"
     ]
    }
   ],
   "source": [
    "#valores aleatórios distr. normal contendo negativos \n",
    "ale2 = np.random.rand((5))\n",
    "print(ale2)\n",
    "print(\"-------\")"
   ]
  },
  {
   "cell_type": "code",
   "execution_count": 311,
   "id": "080135db",
   "metadata": {},
   "outputs": [
    {
     "name": "stdout",
     "output_type": "stream",
     "text": [
      "[[5.84977261 6.68287464 0.42653686 5.40022529]\n",
      " [4.64580543 1.64168716 2.64219386 6.36825978]\n",
      " [6.21133292 8.8223771  0.4404566  2.29120711]]\n"
     ]
    }
   ],
   "source": [
    "#valores aleatorios 4x3\n",
    "ale3 = (10*np.random.random((3,4)))\n",
    "print(ale3)"
   ]
  },
  {
   "cell_type": "code",
   "execution_count": 312,
   "id": "3aefb70f",
   "metadata": {},
   "outputs": [
    {
     "name": "stdout",
     "output_type": "stream",
     "text": [
      "[0.51182162 0.9504637  0.14415961]\n"
     ]
    }
   ],
   "source": [
    "#outra forma de gerar aleatorio \n",
    "#uso de semente\n",
    "\n",
    "gnr = np.random.default_rng(1)\n",
    "ale5 = gnr.random(3)\n",
    "print(ale5)\n"
   ]
  },
  {
   "cell_type": "code",
   "execution_count": 313,
   "id": "9b338237",
   "metadata": {},
   "outputs": [
    {
     "name": "stdout",
     "output_type": "stream",
     "text": [
      "[[8 9 2 3]\n",
      " [8 4 2 8]\n",
      " [2 4 6 5]]\n"
     ]
    }
   ],
   "source": [
    "#gerar inteiros\n",
    "ale6 = gnr.integers(10, size=(3,4))\n",
    "print(ale6)"
   ]
  },
  {
   "cell_type": "code",
   "execution_count": 314,
   "id": "d9ba476d",
   "metadata": {},
   "outputs": [
    {
     "name": "stdout",
     "output_type": "stream",
     "text": [
      "[11 12 13 14 15 16 17 18 19 20]\n"
     ]
    }
   ],
   "source": [
    "#unique remove repetições \n",
    "\n",
    "j = np.array([11, 12, 13, 14, 15, 16, 17, 12, 13, 11, 18, 19, 20])\n",
    "j = np.unique(j)\n",
    "print(j)"
   ]
  },
  {
   "cell_type": "code",
   "execution_count": 315,
   "id": "99fa2dee",
   "metadata": {},
   "outputs": [
    {
     "name": "stdout",
     "output_type": "stream",
     "text": [
      "[[17 23 44]\n",
      " [28 24 15]\n",
      " [14 25 33]]\n",
      "23\n",
      "(3, 3)\n"
     ]
    }
   ],
   "source": [
    "#funções especificas\n",
    "#criar matriz bidimensional \n",
    "k = np.array([[17,23,44], [28,24,15], [14,25,33]])\n",
    "# mostrar a matriz k \n",
    "print(k)\n",
    "# mostrar um elemento especifico de matriz k\n",
    "print(k[0][1])\n",
    "#mostra o tamanho das dimensões da matriz k \n",
    "print(k.shape)"
   ]
  },
  {
   "cell_type": "code",
   "execution_count": 316,
   "id": "37412445",
   "metadata": {},
   "outputs": [
    {
     "name": "stdout",
     "output_type": "stream",
     "text": [
      "44\n",
      "14\n",
      "223\n",
      "24.77777777777778\n",
      "8.966329334147563\n"
     ]
    }
   ],
   "source": [
    "#funções matemáticas \n",
    "#mostra o maior valor da matriz k\n",
    "print(k.max())\n",
    "#mostra o menor valor da matriz k\n",
    "print(k.min())\n",
    "#mostra a soma dos valores da matriz k\n",
    "print((k.sum()))\n",
    "#mostra o valor da media dos valores da matriz k\n",
    "print(k.mean())\n",
    "#mostra o valor do desvio padrão (standard deviation)dos valores matriz k\n",
    "print(k.std())"
   ]
  },
  {
   "cell_type": "code",
   "execution_count": 317,
   "id": "05748ebb",
   "metadata": {},
   "outputs": [
    {
     "name": "stdout",
     "output_type": "stream",
     "text": [
      "[1. 2. 3. 4. 5. 6.]\n",
      "[2.71828183e+00 5.45981500e+01 8.10308393e+03 8.88611052e+06\n",
      " 7.20048993e+10 4.31123155e+15]\n"
     ]
    }
   ],
   "source": [
    "#funções universais, aplicadas a todos os elementos \n",
    "# mostrar o valor da raiz quadrada de todos os elementos \n",
    "\n",
    "k1 = np.array([1,4,9,16,25,36])\n",
    "print(np.sqrt(k1))\n",
    "\n",
    "#mostrar o valor do exponencial de todos elementos \n",
    "\n",
    "print(np.exp(k1))"
   ]
  },
  {
   "cell_type": "code",
   "execution_count": 318,
   "id": "ffa64d1e",
   "metadata": {},
   "outputs": [
    {
     "name": "stdout",
     "output_type": "stream",
     "text": [
      "2\n",
      "-------\n",
      "[1 2 3]\n",
      "-------\n",
      "[3 4 5 6]\n",
      "-------\n",
      "[2 3 4 5 6]\n"
     ]
    }
   ],
   "source": [
    "#extraçãos de elementos \n",
    "m = np.array([1, 2, 3, 4, 5, 6])\n",
    "#mostra elementos da posição 2\n",
    "print(m[1])\n",
    "print(\"-------\")\n",
    "#mostra o array criado a partir da posição 0, dois elementos\n",
    "print(m[0:3])\n",
    "print(\"-------\")\n",
    "#mostrar o array criado a partir da 2a posição \n",
    "# até todo o restante do array \n",
    "print(m[2:])\n",
    "print(\"-------\")\n",
    "#mostra o array criado a partir da antepenultima\n",
    "#posição até o final \n",
    "print(m[-5:])\n"
   ]
  },
  {
   "cell_type": "code",
   "execution_count": 319,
   "id": "8c88bac2",
   "metadata": {},
   "outputs": [
    {
     "name": "stdout",
     "output_type": "stream",
     "text": [
      "[[4 5]\n",
      " [6 1]\n",
      " [7 4]]\n",
      "-------\n",
      "[4 5]\n",
      "-------\n",
      "[6 1]\n",
      "-------\n",
      "[7 4]\n",
      "-------\n",
      "[4 6 7]\n",
      "-------\n",
      "[5 1 4]\n",
      "-------\n"
     ]
    }
   ],
   "source": [
    "#extração de linhas e colunas \n",
    "\n",
    "l = np.array([[4,5],[6,1], [7,4]])\n",
    "print(l)\n",
    "print(\"-------\")\n",
    "\n",
    "#primeira linha, todas as colunas \n",
    "l_linha_1 = l[0, :]\n",
    "print(l_linha_1)\n",
    "print(\"-------\")\n",
    "\n",
    "#segunda linha \n",
    "l_linha_2 = l[1, :]\n",
    "print(l_linha_2)\n",
    "print(\"-------\")\n",
    "\n",
    "#terceira linha \n",
    "l_linha_3 = l[2, :]\n",
    "print(l_linha_3)\n",
    "print(\"-------\")\n",
    "\n",
    "#todas as linhas, primeiro coluna \n",
    "l_coluna_1 = l[:,0]\n",
    "print(l_coluna_1)\n",
    "print(\"-------\")\n",
    "\n",
    "#todas as linhas, segunda coluna \n",
    "l_coluna_2 = l[:,1]\n",
    "print(l_coluna_2)\n",
    "print(\"-------\")\n"
   ]
  },
  {
   "cell_type": "code",
   "execution_count": 320,
   "id": "8c2e56c9",
   "metadata": {},
   "outputs": [
    {
     "name": "stdout",
     "output_type": "stream",
     "text": [
      "[[2 3]\n",
      " [4 5]]\n",
      "-------\n",
      "[[1 2]\n",
      " [3 4]]\n",
      "-------\n",
      "[[3 3]\n",
      " [5 5]\n",
      " [7 7]]\n"
     ]
    }
   ],
   "source": [
    "#adição e multiplicação de matriz \n",
    "n = np.array([[1,2], [3,4]])\n",
    "o = np.array([[1,1], [1,1]])\n",
    "res1 = n+o\n",
    "print(res1)\n",
    "print(\"-------\")\n",
    "\n",
    "res2 = n*o\n",
    "print(res2)\n",
    "print(\"-------\")\n",
    "\n",
    "p = np.array([[1,2], [3,4], [5,6]])\n",
    "q = np.array([[2,1]])\n",
    "print(p+q)"
   ]
  },
  {
   "cell_type": "code",
   "execution_count": 321,
   "id": "2dabec51",
   "metadata": {},
   "outputs": [
    {
     "name": "stdout",
     "output_type": "stream",
     "text": [
      "[[ 0  1  2  3  4]\n",
      " [ 5  6  7  8  9]\n",
      " [10 11 12 13 14]]\n",
      "-------\n",
      "[[ 0  5 10]\n",
      " [ 1  6 11]\n",
      " [ 2  7 12]\n",
      " [ 3  8 13]\n",
      " [ 4  9 14]]\n"
     ]
    }
   ],
   "source": [
    "# transposição rearranja um conjunto de 15 elementos de 0 a 14 \n",
    "# em 3 linhas e 5 colunas \n",
    "\n",
    "f = np.arange(15).reshape((3, 5))\n",
    "\n",
    "#mostrar a matrizes transposta entre linha e coluna\n",
    "print(f)\n",
    "print(\"-------\")\n",
    "s = f.T\n",
    "print(s)"
   ]
  },
  {
   "cell_type": "code",
   "execution_count": 322,
   "id": "f2c5e302",
   "metadata": {},
   "outputs": [
    {
     "name": "stdout",
     "output_type": "stream",
     "text": [
      "[[ 0  1  2  3  4]\n",
      " [ 5  6  7  8  9]\n",
      " [10 11 12 13 14]]\n",
      "-------\n",
      "[[ 0  5 10]\n",
      " [ 1  6 11]\n",
      " [ 2  7 12]\n",
      " [ 3  8 13]\n",
      " [ 4  9 14]]\n"
     ]
    }
   ],
   "source": [
    "#outra forma de fazer, mesmo resultado\n",
    "r = np.arange(15).reshape((3, 5))\n",
    "print(r)\n",
    "print(\"-------\")\n",
    "\n",
    "#rearranja um conjunto de 15 elementos\n",
    "# mostra a matriz transposta entre linha e coluna\n",
    "s = r.transpose((1,0))\n",
    "print(s)"
   ]
  },
  {
   "cell_type": "code",
   "execution_count": 323,
   "id": "d95d2071",
   "metadata": {},
   "outputs": [
    {
     "name": "stdout",
     "output_type": "stream",
     "text": [
      "[[0.42979602 0.74163091 0.98385706 0.93405387]\n",
      " [0.75441778 0.88002957 0.61766228 0.05817897]\n",
      " [0.70866181 0.40659082 0.397948   0.1883262 ]\n",
      " [0.98826747 0.59179083 0.86289773 0.84477404]]\n",
      "[[ True  True  True  True]\n",
      " [ True  True  True  True]\n",
      " [ True  True  True  True]\n",
      " [ True  True  True  True]]\n",
      "[[1 1 1 1]\n",
      " [1 1 1 1]\n",
      " [1 1 1 1]\n",
      " [1 1 1 1]]\n"
     ]
    }
   ],
   "source": [
    "#expressão logicas\n",
    "#usando where \n",
    "#criando matriz com valores aleatorios positivos e negativos \n",
    "v = np.random.rand(4, 4)\n",
    "print(v)\n",
    "#criando matriz com valores booelanos baseados no array v \n",
    "x = (v > 0)\n",
    "print(x)\n",
    "#criando matriz com valores -1 e 1 baseados nos valores do array x \n",
    "z = np.where(x > 0, 1, -1)\n",
    "print(z)"
   ]
  }
 ],
 "metadata": {
  "kernelspec": {
   "display_name": "meu_ambiente_virtual",
   "language": "python",
   "name": "python3"
  },
  "language_info": {
   "codemirror_mode": {
    "name": "ipython",
    "version": 3
   },
   "file_extension": ".py",
   "mimetype": "text/x-python",
   "name": "python",
   "nbconvert_exporter": "python",
   "pygments_lexer": "ipython3",
   "version": "3.12.3"
  }
 },
 "nbformat": 4,
 "nbformat_minor": 5
}
