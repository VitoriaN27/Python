{
 "cells": [
  {
   "cell_type": "code",
   "execution_count": 1,
   "id": "0e66aae1",
   "metadata": {},
   "outputs": [],
   "source": [
    "import numpy as np"
   ]
  },
  {
   "cell_type": "code",
   "execution_count": 2,
   "id": "29f6a8a6",
   "metadata": {},
   "outputs": [
    {
     "name": "stdout",
     "output_type": "stream",
     "text": [
      "[12 34 26 18 10]\n",
      "<class 'numpy.ndarray'>\n"
     ]
    }
   ],
   "source": [
    "#criar uma matriz unidimensional \n",
    "mt = np.array([12,34,26,18,10]) \n",
    "print(mt)\n",
    "print(type(mt))"
   ]
  },
  {
   "cell_type": "code",
   "execution_count": 3,
   "id": "b94956c9",
   "metadata": {},
   "outputs": [
    {
     "name": "stdout",
     "output_type": "stream",
     "text": [
      "[1. 2. 3.]\n",
      "<class 'numpy.ndarray'>\n",
      "[1 2 3]\n",
      "<class 'numpy.ndarray'>\n"
     ]
    }
   ],
   "source": [
    "#criar o array com um tipo especifico \n",
    "# cria o array como float de 64 bits\n",
    "mtfloat = np.array([1, 2, 3], dtype = np.float64)  \n",
    "print(mtfloat)\n",
    "print(type(mtfloat))\n",
    "mtint = np.array([1, 2, 3], dtype = np.int32)\n",
    "print(mtint)\n",
    "print(type(mtint))"
   ]
  },
  {
   "cell_type": "code",
   "execution_count": 4,
   "id": "eb93f3f5",
   "metadata": {},
   "outputs": [
    {
     "name": "stdout",
     "output_type": "stream",
     "text": [
      "[ 1.4       3.6      -5.        1.        9.42      4.999999]\n",
      "[ 1  3 -5  1  9  4]\n"
     ]
    }
   ],
   "source": [
    "#mudar o tipo de array \n",
    "#pode transforma tipo de dados de arrays \n",
    "mtnew = np.array([1.4, 3.6, -5,1, 9.42, 4.999999])\n",
    "print(mtnew)\n",
    "\n",
    "# quando transforma de float para int os valores são truncados\n",
    "mtnewint = mtnew.astype(np.int32)\n",
    "print(mtnewint)\n"
   ]
  },
  {
   "cell_type": "code",
   "execution_count": null,
   "id": "370c4674",
   "metadata": {},
   "outputs": [],
   "source": []
  }
 ],
 "metadata": {
  "kernelspec": {
   "display_name": "meu_ambiente_virtual",
   "language": "python",
   "name": "python3"
  },
  "language_info": {
   "codemirror_mode": {
    "name": "ipython",
    "version": 3
   },
   "file_extension": ".py",
   "mimetype": "text/x-python",
   "name": "python",
   "nbconvert_exporter": "python",
   "pygments_lexer": "ipython3",
   "version": "3.12.3"
  }
 },
 "nbformat": 4,
 "nbformat_minor": 5
}
