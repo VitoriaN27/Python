{
 "cells": [
  {
   "cell_type": "code",
   "execution_count": 4,
   "id": "85a520d9",
   "metadata": {},
   "outputs": [
    {
     "name": "stdout",
     "output_type": "stream",
     "text": [
      "200\n",
      "Maior valor:  45\n",
      "Menor valor:  1\n",
      "Soma:  78\n",
      "arrendondamento:  2.35\n"
     ]
    }
   ],
   "source": [
    "#função interna\n",
    "print(abs(-200))\n",
    "lst = [1,2,30,45]\n",
    "print(\"Maior valor: \", max(lst))\n",
    "print(\"Menor valor: \", min(lst))\n",
    "print(\"Soma: \", sum(lst))\n",
    "print(\"arrendondamento: \", round(2.34567,2))"
   ]
  },
  {
   "cell_type": "code",
   "execution_count": 5,
   "id": "81e7d35b",
   "metadata": {},
   "outputs": [
    {
     "name": "stdout",
     "output_type": "stream",
     "text": [
      "Média:  19.5\n",
      "Mediana:  16.0\n",
      "Moda:  1\n"
     ]
    }
   ],
   "source": [
    "#statistica\n",
    "from statistics import *\n",
    "print(\"Média: \", mean(lst))\n",
    "print(\"Mediana: \", median(lst))\n",
    "print(\"Moda: \", mode(lst))"
   ]
  },
  {
   "cell_type": "code",
   "execution_count": 6,
   "id": "aaea4181",
   "metadata": {},
   "outputs": [
    {
     "name": "stdout",
     "output_type": "stream",
     "text": [
      "Desvio padrão:  21.67179426505029\n"
     ]
    }
   ],
   "source": [
    "#desvio padrão da amostra\n",
    "print(\"Desvio padrão: \", stdev(lst))"
   ]
  }
 ],
 "metadata": {
  "kernelspec": {
   "display_name": "base",
   "language": "python",
   "name": "python3"
  },
  "language_info": {
   "codemirror_mode": {
    "name": "ipython",
    "version": 3
   },
   "file_extension": ".py",
   "mimetype": "text/x-python",
   "name": "python",
   "nbconvert_exporter": "python",
   "pygments_lexer": "ipython3",
   "version": "3.9.13"
  }
 },
 "nbformat": 4,
 "nbformat_minor": 5
}
