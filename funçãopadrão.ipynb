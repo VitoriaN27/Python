{
 "cells": [
  {
   "cell_type": "code",
   "execution_count": 7,
   "id": "85a520d9",
   "metadata": {},
   "outputs": [
    {
     "name": "stdout",
     "output_type": "stream",
     "text": [
      "200\n",
      "Maior valor:  45\n",
      "Menor valor:  1\n",
      "Soma:  78\n",
      "arrendondamento:  2.35\n"
     ]
    }
   ],
   "source": [
    "#função interna\n",
    "print(abs(-200))\n",
    "lst = [1,2,30,45]\n",
    "print(\"Maior valor: \", max(lst))\n",
    "print(\"Menor valor: \", min(lst))\n",
    "print(\"Soma: \", sum(lst))\n",
    "print(\"arrendondamento: \", round(2.34567,2))"
   ]
  },
  {
   "cell_type": "code",
   "execution_count": 8,
   "id": "81e7d35b",
   "metadata": {},
   "outputs": [
    {
     "name": "stdout",
     "output_type": "stream",
     "text": [
      "Média:  19.5\n",
      "Mediana:  16.0\n",
      "Moda:  1\n"
     ]
    }
   ],
   "source": [
    "#statistica\n",
    "from statistics import *\n",
    "print(\"Média: \", mean(lst))\n",
    "print(\"Mediana: \", median(lst))\n",
    "print(\"Moda: \", mode(lst))"
   ]
  },
  {
   "cell_type": "code",
   "execution_count": 9,
   "id": "aaea4181",
   "metadata": {},
   "outputs": [
    {
     "name": "stdout",
     "output_type": "stream",
     "text": [
      "Desvio padrão:  21.67179426505029\n"
     ]
    }
   ],
   "source": [
    "#desvio padrão da amostra\n",
    "print(\"Desvio padrão: \", stdev(lst))"
   ]
  },
  {
   "cell_type": "code",
   "execution_count": 10,
   "id": "040f628a",
   "metadata": {},
   "outputs": [
    {
     "name": "stdout",
     "output_type": "stream",
     "text": [
      "Variância:  469.6666666666667\n"
     ]
    }
   ],
   "source": [
    "#variancia da amostra\n",
    "print(\"Variância: \", variance(lst))"
   ]
  },
  {
   "cell_type": "code",
   "execution_count": 11,
   "id": "34842165",
   "metadata": {},
   "outputs": [
    {
     "name": "stdout",
     "output_type": "stream",
     "text": [
      "<class 'numpy.ndarray'>\n",
      "[[0.49945877 0.73072199 0.36632215 0.13196323 0.69338676 0.48924871\n",
      "  0.5326213  0.02061853]\n",
      " [0.03562454 0.77976112 0.53318029 0.79591429 0.50246763 0.33791703\n",
      "  0.46005209 0.6040105 ]\n",
      " [0.0379153  0.25308889 0.39709315 0.13324945 0.16568131 0.9784599\n",
      "  0.56005003 0.98646645]\n",
      " [0.53323275 0.56449984 0.15794453 0.18697669 0.24506706 0.46780341\n",
      "  0.06600195 0.83056889]\n",
      " [0.49392731 0.74514869 0.5684457  0.9982516  0.49785396 0.53332012\n",
      "  0.48313716 0.61345178]\n",
      " [0.97417392 0.64509521 0.97158201 0.81955034 0.47286905 0.25668325\n",
      "  0.46287431 0.45317287]\n",
      " [0.39861513 0.92573543 0.05193896 0.40215392 0.54329377 0.82338216\n",
      "  0.10205445 0.93875565]\n",
      " [0.4653393  0.60344848 0.60489289 0.66380474 0.55753422 0.00600027\n",
      "  0.17383078 0.96426116]]\n"
     ]
    }
   ],
   "source": [
    "from numpy import *\n",
    "a = random.random((8,8))\n",
    "print(type(a))\n",
    "print(a)"
   ]
  }
 ],
 "metadata": {
  "kernelspec": {
   "display_name": "base",
   "language": "python",
   "name": "python3"
  },
  "language_info": {
   "codemirror_mode": {
    "name": "ipython",
    "version": 3
   },
   "file_extension": ".py",
   "mimetype": "text/x-python",
   "name": "python",
   "nbconvert_exporter": "python",
   "pygments_lexer": "ipython3",
   "version": "3.9.13"
  }
 },
 "nbformat": 4,
 "nbformat_minor": 5
}
