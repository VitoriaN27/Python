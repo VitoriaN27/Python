{
 "cells": [
  {
   "cell_type": "code",
   "execution_count": 75,
   "id": "6faa9f58",
   "metadata": {},
   "outputs": [],
   "source": [
    "import pandas as pd\n",
    "import seaborn as srn\n",
    "import statistics as sts"
   ]
  },
  {
   "cell_type": "code",
   "execution_count": 76,
   "id": "9997920d",
   "metadata": {},
   "outputs": [],
   "source": [
    "df = pd.DataFrame"
   ]
  },
  {
   "cell_type": "code",
   "execution_count": 77,
   "id": "01eafa89",
   "metadata": {},
   "outputs": [
    {
     "data": {
      "text/html": [
       "<div>\n",
       "<style scoped>\n",
       "    .dataframe tbody tr th:only-of-type {\n",
       "        vertical-align: middle;\n",
       "    }\n",
       "\n",
       "    .dataframe tbody tr th {\n",
       "        vertical-align: top;\n",
       "    }\n",
       "\n",
       "    .dataframe thead th {\n",
       "        text-align: right;\n",
       "    }\n",
       "</style>\n",
       "<table border=\"1\" class=\"dataframe\">\n",
       "  <thead>\n",
       "    <tr style=\"text-align: right;\">\n",
       "      <th></th>\n",
       "      <th>ID</th>\n",
       "      <th>Nome</th>\n",
       "      <th>Idade</th>\n",
       "      <th>E-mail</th>\n",
       "      <th>Cidade</th>\n",
       "      <th>Data_Cadastro</th>\n",
       "      <th>Valor_Compra</th>\n",
       "      <th>Status</th>\n",
       "    </tr>\n",
       "  </thead>\n",
       "  <tbody>\n",
       "    <tr>\n",
       "      <th>0</th>\n",
       "      <td>1</td>\n",
       "      <td>Ana Silva</td>\n",
       "      <td>29.0</td>\n",
       "      <td>ana.silva@email.com</td>\n",
       "      <td>São Paulo</td>\n",
       "      <td>2024-01-10</td>\n",
       "      <td>250.75</td>\n",
       "      <td>ativo</td>\n",
       "    </tr>\n",
       "    <tr>\n",
       "      <th>1</th>\n",
       "      <td>2</td>\n",
       "      <td>Bruno Souza</td>\n",
       "      <td>35.0</td>\n",
       "      <td>bruno@email.com</td>\n",
       "      <td>Rio de Janeiro</td>\n",
       "      <td>2023-11-22</td>\n",
       "      <td>0.00</td>\n",
       "      <td>Inativo</td>\n",
       "    </tr>\n",
       "    <tr>\n",
       "      <th>2</th>\n",
       "      <td>3</td>\n",
       "      <td>Carla Lima</td>\n",
       "      <td>NaN</td>\n",
       "      <td>carla@email.com</td>\n",
       "      <td>Belo Horizonte</td>\n",
       "      <td>2024-03-05</td>\n",
       "      <td>150.00</td>\n",
       "      <td>Ativo</td>\n",
       "    </tr>\n",
       "    <tr>\n",
       "      <th>3</th>\n",
       "      <td>4</td>\n",
       "      <td>Diego Martins</td>\n",
       "      <td>42.0</td>\n",
       "      <td>NaN</td>\n",
       "      <td>São Paulo</td>\n",
       "      <td>2022-07-19</td>\n",
       "      <td>430.50</td>\n",
       "      <td>ativo</td>\n",
       "    </tr>\n",
       "    <tr>\n",
       "      <th>4</th>\n",
       "      <td>5</td>\n",
       "      <td>Elisa Rocha</td>\n",
       "      <td>23.0</td>\n",
       "      <td>elisa@email.com</td>\n",
       "      <td>Porto Alegre</td>\n",
       "      <td>2025-01-01</td>\n",
       "      <td>0.00</td>\n",
       "      <td>inativo</td>\n",
       "    </tr>\n",
       "  </tbody>\n",
       "</table>\n",
       "</div>"
      ],
      "text/plain": [
       "   ID           Nome  Idade               E-mail          Cidade  \\\n",
       "0   1     Ana Silva    29.0  ana.silva@email.com       São Paulo   \n",
       "1   2    Bruno Souza   35.0      bruno@email.com  Rio de Janeiro   \n",
       "2   3     Carla Lima    NaN      carla@email.com  Belo Horizonte   \n",
       "3   4  Diego Martins   42.0                  NaN       São Paulo   \n",
       "4   5    Elisa Rocha   23.0      elisa@email.com    Porto Alegre   \n",
       "\n",
       "  Data_Cadastro  Valor_Compra   Status  \n",
       "0    2024-01-10        250.75    ativo  \n",
       "1    2023-11-22          0.00  Inativo  \n",
       "2    2024-03-05        150.00    Ativo  \n",
       "3    2022-07-19        430.50    ativo  \n",
       "4    2025-01-01          0.00  inativo  "
      ]
     },
     "execution_count": 77,
     "metadata": {},
     "output_type": "execute_result"
    }
   ],
   "source": [
    "#importar dados\n",
    "dataset = pd.read_csv(\"limpezadados.csv\", sep=\",\")\n",
    "#visualizar\n",
    "dataset.head()"
   ]
  },
  {
   "cell_type": "code",
   "execution_count": 78,
   "id": "c04210f9",
   "metadata": {},
   "outputs": [
    {
     "data": {
      "text/plain": [
       "(7, 8)"
      ]
     },
     "execution_count": 78,
     "metadata": {},
     "output_type": "execute_result"
    }
   ],
   "source": [
    "#tamanho \n",
    "dataset.shape"
   ]
  },
  {
   "cell_type": "code",
   "execution_count": 79,
   "id": "f6e4e518",
   "metadata": {},
   "outputs": [
    {
     "data": {
      "text/plain": [
       "Cidade\n",
       "Belo Horizonte    1\n",
       "Porto Alegre      1\n",
       "Recife            1\n",
       "Rio de Janeiro    1\n",
       "São Paulo         2\n",
       "dtype: int64"
      ]
     },
     "execution_count": 79,
     "metadata": {},
     "output_type": "execute_result"
    }
   ],
   "source": [
    "#explorar dados categorias \n",
    "#estado\n",
    "agrupado = dataset.groupby(['Cidade']).size()\n",
    "agrupado"
   ]
  },
  {
   "cell_type": "code",
   "execution_count": 80,
   "id": "c43e7a64",
   "metadata": {},
   "outputs": [
    {
     "data": {
      "text/plain": [
       "<Axes: xlabel='Cidade'>"
      ]
     },
     "execution_count": 80,
     "metadata": {},
     "output_type": "execute_result"
    },
    {
     "data": {
      "image/png": "[encoded data removed]",
      "text/plain": [
       "<Figure size 640x480 with 1 Axes>"
      ]
     },
     "metadata": {},
     "output_type": "display_data"
    }
   ],
   "source": [
    "agrupado.plot.bar(color = 'blue')"
   ]
  },
  {
   "cell_type": "code",
   "execution_count": 81,
   "id": "c9965938",
   "metadata": {},
   "outputs": [
    {
     "data": {
      "text/plain": [
       "Status\n",
       "ATIVO      1\n",
       "Ativo      2\n",
       "Inativo    1\n",
       "ativo      2\n",
       "inativo    1\n",
       "dtype: int64"
      ]
     },
     "execution_count": 81,
     "metadata": {},
     "output_type": "execute_result"
    }
   ],
   "source": [
    "#genero \n",
    "agrupado = dataset.groupby(['Status']).size()\n",
    "agrupado"
   ]
  },
  {
   "cell_type": "code",
   "execution_count": 82,
   "id": "f014de72",
   "metadata": {},
   "outputs": [
    {
     "data": {
      "text/plain": [
       "<Axes: xlabel='Status'>"
      ]
     },
     "execution_count": 82,
     "metadata": {},
     "output_type": "execute_result"
    },
    {
     "data": {
      "image/png": "[encoded data removed]",
      "text/plain": [
       "<Figure size 640x480 with 1 Axes>"
      ]
     },
     "metadata": {},
     "output_type": "display_data"
    }
   ],
   "source": [
    "agrupado.plot.bar(color='gray')"
   ]
  },
  {
   "cell_type": "code",
   "execution_count": 83,
   "id": "99e24b15",
   "metadata": {},
   "outputs": [
    {
     "data": {
      "text/plain": [
       "count      6.000000\n",
       "mean     185.241667\n",
       "std      169.310958\n",
       "min        0.000000\n",
       "25%       37.500000\n",
       "50%      200.375000\n",
       "75%      272.837500\n",
       "max      430.500000\n",
       "Name: Valor_Compra, dtype: float64"
      ]
     },
     "execution_count": 83,
     "metadata": {},
     "output_type": "execute_result"
    }
   ],
   "source": [
    "#explorar colunas numéricos\n",
    "#score\n",
    "dataset['Valor_Compra'].describe()"
   ]
  }
 ],
 "metadata": {
  "kernelspec": {
   "display_name": "venv",
   "language": "python",
   "name": "python3"
  },
  "language_info": {
   "codemirror_mode": {
    "name": "ipython",
    "version": 3
   },
   "file_extension": ".py",
   "mimetype": "text/x-python",
   "name": "python",
   "nbconvert_exporter": "python",
   "pygments_lexer": "ipython3",
   "version": "3.12.3"
  }
 },
 "nbformat": 4,
 "nbformat_minor": 5
}
