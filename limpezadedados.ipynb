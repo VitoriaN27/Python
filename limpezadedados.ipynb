{
 "cells": [
  {
   "cell_type": "code",
   "execution_count": 558,
   "id": "6faa9f58",
   "metadata": {},
   "outputs": [],
   "source": [
    "import pandas as pd\n",
    "import seaborn as srn\n",
    "import statistics as sts\n",
    "import matplotlib.pyplot as plt\n"
   ]
  },
  {
   "cell_type": "code",
   "execution_count": 559,
   "id": "9997920d",
   "metadata": {},
   "outputs": [],
   "source": [
    "df = pd.DataFrame"
   ]
  },
  {
   "cell_type": "code",
   "execution_count": null,
   "id": "56f8b462",
   "metadata": {},
   "outputs": [],
   "source": []
  },
  {
   "cell_type": "code",
   "execution_count": 560,
   "id": "01eafa89",
   "metadata": {},
   "outputs": [
    {
     "data": {
      "text/html": [
       "<div>\n",
       "<style scoped>\n",
       "    .dataframe tbody tr th:only-of-type {\n",
       "        vertical-align: middle;\n",
       "    }\n",
       "\n",
       "    .dataframe tbody tr th {\n",
       "        vertical-align: top;\n",
       "    }\n",
       "\n",
       "    .dataframe thead th {\n",
       "        text-align: right;\n",
       "    }\n",
       "</style>\n",
       "<table border=\"1\" class=\"dataframe\">\n",
       "  <thead>\n",
       "    <tr style=\"text-align: right;\">\n",
       "      <th></th>\n",
       "      <th>id</th>\n",
       "      <th>genero</th>\n",
       "      <th>nome</th>\n",
       "      <th>idade</th>\n",
       "      <th>salario</th>\n",
       "      <th>cidade</th>\n",
       "      <th>email</th>\n",
       "      <th>status</th>\n",
       "      <th>valor_compra</th>\n",
       "      <th>data_cadastro</th>\n",
       "    </tr>\n",
       "  </thead>\n",
       "  <tbody>\n",
       "    <tr>\n",
       "      <th>0</th>\n",
       "      <td>1</td>\n",
       "      <td>F</td>\n",
       "      <td>Ana Souza</td>\n",
       "      <td>28</td>\n",
       "      <td>3200.50</td>\n",
       "      <td>Recife</td>\n",
       "      <td>ana.souza@email.com</td>\n",
       "      <td>ativo</td>\n",
       "      <td>150.75</td>\n",
       "      <td>2023-01-15</td>\n",
       "    </tr>\n",
       "    <tr>\n",
       "      <th>1</th>\n",
       "      <td>2</td>\n",
       "      <td>M</td>\n",
       "      <td>Bruno Lima</td>\n",
       "      <td>34</td>\n",
       "      <td>4100.00</td>\n",
       "      <td>São Paulo</td>\n",
       "      <td>bruno.lima@email.com</td>\n",
       "      <td>inativo</td>\n",
       "      <td>0.00</td>\n",
       "      <td>2022-11-08</td>\n",
       "    </tr>\n",
       "    <tr>\n",
       "      <th>2</th>\n",
       "      <td>3</td>\n",
       "      <td>F</td>\n",
       "      <td>Camila Alves</td>\n",
       "      <td>26</td>\n",
       "      <td>2750.80</td>\n",
       "      <td>Belo Horizonte</td>\n",
       "      <td>camila.alves@email.com</td>\n",
       "      <td>ativo</td>\n",
       "      <td>230.00</td>\n",
       "      <td>2023-06-22</td>\n",
       "    </tr>\n",
       "    <tr>\n",
       "      <th>3</th>\n",
       "      <td>4</td>\n",
       "      <td>M</td>\n",
       "      <td>Diego Martins</td>\n",
       "      <td>39</td>\n",
       "      <td>5300.25</td>\n",
       "      <td>Curitiba</td>\n",
       "      <td>diego.martins@email.com</td>\n",
       "      <td>ativo</td>\n",
       "      <td>1250.90</td>\n",
       "      <td>2023-03-10</td>\n",
       "    </tr>\n",
       "    <tr>\n",
       "      <th>4</th>\n",
       "      <td>5</td>\n",
       "      <td>F</td>\n",
       "      <td>Eliane Costa</td>\n",
       "      <td>31</td>\n",
       "      <td>2980.00</td>\n",
       "      <td>Salvador</td>\n",
       "      <td>eliane.costa@email.com</td>\n",
       "      <td>inativo</td>\n",
       "      <td>0.00</td>\n",
       "      <td>2022-12-01</td>\n",
       "    </tr>\n",
       "  </tbody>\n",
       "</table>\n",
       "</div>"
      ],
      "text/plain": [
       "   id genero           nome  idade  salario          cidade  \\\n",
       "0   1      F      Ana Souza     28  3200.50          Recife   \n",
       "1   2      M     Bruno Lima     34  4100.00       São Paulo   \n",
       "2   3      F   Camila Alves     26  2750.80  Belo Horizonte   \n",
       "3   4      M  Diego Martins     39  5300.25        Curitiba   \n",
       "4   5      F   Eliane Costa     31  2980.00        Salvador   \n",
       "\n",
       "                     email   status  valor_compra data_cadastro  \n",
       "0      ana.souza@email.com    ativo        150.75    2023-01-15  \n",
       "1     bruno.lima@email.com  inativo          0.00    2022-11-08  \n",
       "2   camila.alves@email.com    ativo        230.00    2023-06-22  \n",
       "3  diego.martins@email.com    ativo       1250.90    2023-03-10  \n",
       "4   eliane.costa@email.com  inativo          0.00    2022-12-01  "
      ]
     },
     "execution_count": 560,
     "metadata": {},
     "output_type": "execute_result"
    }
   ],
   "source": [
    "#importar dados\n",
    "dataset = pd.read_csv(\"limpezadados.csv\", sep=\",\")\n",
    "#visualizar\n",
    "dataset.head()"
   ]
  },
  {
   "cell_type": "code",
   "execution_count": 561,
   "id": "c04210f9",
   "metadata": {},
   "outputs": [
    {
     "data": {
      "text/plain": [
       "(5, 10)"
      ]
     },
     "execution_count": 561,
     "metadata": {},
     "output_type": "execute_result"
    }
   ],
   "source": [
    "#tamanho \n",
    "dataset.shape"
   ]
  },
  {
   "cell_type": "code",
   "execution_count": 562,
   "id": "f6e4e518",
   "metadata": {},
   "outputs": [
    {
     "data": {
      "text/plain": [
       "cidade\n",
       "Belo Horizonte    1\n",
       "Curitiba          1\n",
       "Recife            1\n",
       "Salvador          1\n",
       "São Paulo         1\n",
       "dtype: int64"
      ]
     },
     "execution_count": 562,
     "metadata": {},
     "output_type": "execute_result"
    }
   ],
   "source": [
    "#explorar dados categorias \n",
    "#estado\n",
    "agrupado = dataset.groupby(['cidade']).size()\n",
    "agrupado"
   ]
  },
  {
   "cell_type": "code",
   "execution_count": 563,
   "id": "c43e7a64",
   "metadata": {},
   "outputs": [
    {
     "data": {
      "text/plain": [
       "<Axes: xlabel='cidade'>"
      ]
     },
     "execution_count": 563,
     "metadata": {},
     "output_type": "execute_result"
    },
    {
     "data": {
      "image/png": "[encoded data removed]",
      "text/plain": [
       "<Figure size 640x480 with 1 Axes>"
      ]
     },
     "metadata": {},
     "output_type": "display_data"
    }
   ],
   "source": [
    "agrupado.plot.bar(color = 'blue')"
   ]
  },
  {
   "cell_type": "code",
   "execution_count": 564,
   "id": "c9965938",
   "metadata": {},
   "outputs": [
    {
     "data": {
      "text/plain": [
       "status\n",
       "ativo      3\n",
       "inativo    2\n",
       "dtype: int64"
      ]
     },
     "execution_count": 564,
     "metadata": {},
     "output_type": "execute_result"
    }
   ],
   "source": [
    "#genero \n",
    "agrupado = dataset.groupby(['status']).size()\n",
    "agrupado"
   ]
  },
  {
   "cell_type": "code",
   "execution_count": 565,
   "id": "f014de72",
   "metadata": {},
   "outputs": [
    {
     "data": {
      "text/plain": [
       "<Axes: xlabel='status'>"
      ]
     },
     "execution_count": 565,
     "metadata": {},
     "output_type": "execute_result"
    },
    {
     "data": {
      "image/png": "[encoded data removed]",
      "text/plain": [
       "<Figure size 640x480 with 1 Axes>"
      ]
     },
     "metadata": {},
     "output_type": "display_data"
    }
   ],
   "source": [
    "agrupado.plot.bar(color='gray')"
   ]
  },
  {
   "cell_type": "code",
   "execution_count": 566,
   "id": "99e24b15",
   "metadata": {},
   "outputs": [
    {
     "data": {
      "text/plain": [
       "count       5.000000\n",
       "mean      326.330000\n",
       "std       526.288901\n",
       "min         0.000000\n",
       "25%         0.000000\n",
       "50%       150.750000\n",
       "75%       230.000000\n",
       "max      1250.900000\n",
       "Name: valor_compra, dtype: float64"
      ]
     },
     "execution_count": 566,
     "metadata": {},
     "output_type": "execute_result"
    }
   ],
   "source": [
    "#explorar colunas numéricos\n",
    "#score\n",
    "dataset['valor_compra'].describe()"
   ]
  },
  {
   "cell_type": "code",
   "execution_count": 567,
   "id": "352ce7c6",
   "metadata": {},
   "outputs": [
    {
     "data": {
      "text/plain": [
       "Text(0.5, 1.0, 'Contagem por Cidade')"
      ]
     },
     "execution_count": 567,
     "metadata": {},
     "output_type": "execute_result"
    },
    {
     "data": {
      "image/png": "[encoded data removed]",
      "text/plain": [
       "<Figure size 640x480 with 1 Axes>"
      ]
     },
     "metadata": {},
     "output_type": "display_data"
    }
   ],
   "source": [
    "srn.countplot(x='cidade', data=dataset).set_title('Contagem por Cidade')"
   ]
  },
  {
   "cell_type": "code",
   "execution_count": 568,
   "id": "99493fe3",
   "metadata": {},
   "outputs": [
    {
     "data": {
      "text/plain": [
       "<seaborn.axisgrid.FacetGrid at 0x7396d75fc200>"
      ]
     },
     "execution_count": 568,
     "metadata": {},
     "output_type": "execute_result"
    },
    {
     "data": {
      "image/png": "[encoded data removed]",
      "text/plain": [
       "<Figure size 500x500 with 1 Axes>"
      ]
     },
     "metadata": {},
     "output_type": "display_data"
    }
   ],
   "source": [
    "srn.displot(dataset['cidade']).set_titles('cidade')"
   ]
  },
  {
   "cell_type": "code",
   "execution_count": 569,
   "id": "7d6b67d8",
   "metadata": {},
   "outputs": [
    {
     "data": {
      "text/plain": [
       "count     5.000000\n",
       "mean     31.600000\n",
       "std       5.128353\n",
       "min      26.000000\n",
       "25%      28.000000\n",
       "50%      31.000000\n",
       "75%      34.000000\n",
       "max      39.000000\n",
       "Name: idade, dtype: float64"
      ]
     },
     "execution_count": 569,
     "metadata": {},
     "output_type": "execute_result"
    }
   ],
   "source": [
    "#idade\n",
    "dataset['idade'].describe()"
   ]
  },
  {
   "cell_type": "code",
   "execution_count": 570,
   "id": "40b784e4",
   "metadata": {},
   "outputs": [
    {
     "data": {
      "text/plain": [
       "Text(0.5, 1.0, 'idade')"
      ]
     },
     "execution_count": 570,
     "metadata": {},
     "output_type": "execute_result"
    },
    {
     "data": {
      "image/png": "[encoded data removed]",
      "text/plain": [
       "<Figure size 640x480 with 1 Axes>"
      ]
     },
     "metadata": {},
     "output_type": "display_data"
    }
   ],
   "source": [
    "srn.boxplot(dataset['idade']).set_title('idade')"
   ]
  },
  {
   "cell_type": "code",
   "execution_count": 571,
   "id": "0ad5ceb8",
   "metadata": {},
   "outputs": [
    {
     "name": "stderr",
     "output_type": "stream",
     "text": [
      "/tmp/ipykernel_9417/3242550569.py:1: UserWarning: \n",
      "\n",
      "`distplot` is a deprecated function and will be removed in seaborn v0.14.0.\n",
      "\n",
      "Please adapt your code to use either `displot` (a figure-level function with\n",
      "similar flexibility) or `histplot` (an axes-level function for histograms).\n",
      "\n",
      "For a guide to updating your code to use the new functions, please see\n",
      "https://gist.github.com/mwaskom/de44147ed2974457ad6372750bbe5751\n",
      "\n",
      "  srn.distplot(dataset['idade']).set_title('idade')\n"
     ]
    },
    {
     "data": {
      "text/plain": [
       "Text(0.5, 1.0, 'idade')"
      ]
     },
     "execution_count": 571,
     "metadata": {},
     "output_type": "execute_result"
    },
    {
     "data": {
      "image/png": "[encoded data removed]",
      "text/plain": [
       "<Figure size 640x480 with 1 Axes>"
      ]
     },
     "metadata": {},
     "output_type": "display_data"
    }
   ],
   "source": [
    "srn.distplot(dataset['idade']).set_title('idade')"
   ]
  },
  {
   "cell_type": "code",
   "execution_count": 572,
   "id": "d83ff30e",
   "metadata": {},
   "outputs": [
    {
     "data": {
      "text/plain": [
       "count       5.000000\n",
       "mean      326.330000\n",
       "std       526.288901\n",
       "min         0.000000\n",
       "25%         0.000000\n",
       "50%       150.750000\n",
       "75%       230.000000\n",
       "max      1250.900000\n",
       "Name: valor_compra, dtype: float64"
      ]
     },
     "execution_count": 572,
     "metadata": {},
     "output_type": "execute_result"
    }
   ],
   "source": [
    "#saldo \n",
    "dataset['valor_compra'].describe()"
   ]
  },
  {
   "cell_type": "code",
   "execution_count": 573,
   "id": "a5842c2e",
   "metadata": {},
   "outputs": [
    {
     "data": {
      "text/plain": [
       "Text(0.5, 1.0, 'valor_compra')"
      ]
     },
     "execution_count": 573,
     "metadata": {},
     "output_type": "execute_result"
    },
    {
     "data": {
      "image/png": "[encoded data removed]",
      "text/plain": [
       "<Figure size 640x480 with 1 Axes>"
      ]
     },
     "metadata": {},
     "output_type": "display_data"
    }
   ],
   "source": [
    "srn.boxplot(dataset['valor_compra']).set_title('valor_compra')"
   ]
  },
  {
   "cell_type": "code",
   "execution_count": 574,
   "id": "2d607b13",
   "metadata": {},
   "outputs": [
    {
     "name": "stderr",
     "output_type": "stream",
     "text": [
      "/tmp/ipykernel_9417/1329839559.py:1: UserWarning: \n",
      "\n",
      "`distplot` is a deprecated function and will be removed in seaborn v0.14.0.\n",
      "\n",
      "Please adapt your code to use either `displot` (a figure-level function with\n",
      "similar flexibility) or `histplot` (an axes-level function for histograms).\n",
      "\n",
      "For a guide to updating your code to use the new functions, please see\n",
      "https://gist.github.com/mwaskom/de44147ed2974457ad6372750bbe5751\n",
      "\n",
      "  srn.distplot(dataset['valor_compra']).set_title('valor_compra')\n"
     ]
    },
    {
     "data": {
      "text/plain": [
       "Text(0.5, 1.0, 'valor_compra')"
      ]
     },
     "execution_count": 574,
     "metadata": {},
     "output_type": "execute_result"
    },
    {
     "data": {
      "image/png": "[encoded data removed]",
      "text/plain": [
       "<Figure size 640x480 with 1 Axes>"
      ]
     },
     "metadata": {},
     "output_type": "display_data"
    }
   ],
   "source": [
    "srn.distplot(dataset['valor_compra']).set_title('valor_compra')"
   ]
  },
  {
   "cell_type": "code",
   "execution_count": 575,
   "id": "66fcec25",
   "metadata": {},
   "outputs": [
    {
     "data": {
      "text/plain": [
       "count         5\n",
       "unique        2\n",
       "top       ativo\n",
       "freq          3\n",
       "Name: status, dtype: object"
      ]
     },
     "execution_count": 575,
     "metadata": {},
     "output_type": "execute_result"
    }
   ],
   "source": [
    "#contamos valores NAN\n",
    "#genero e salário\n",
    "dataset['status'].describe()"
   ]
  },
  {
   "cell_type": "code",
   "execution_count": 576,
   "id": "cca95512",
   "metadata": {},
   "outputs": [
    {
     "data": {
      "text/plain": [
       "150.75"
      ]
     },
     "execution_count": 576,
     "metadata": {},
     "output_type": "execute_result"
    }
   ],
   "source": [
    "mediana = sts.median(dataset['valor_compra'])\n",
    "mediana"
   ]
  },
  {
   "cell_type": "code",
   "execution_count": 577,
   "id": "e91fe9f9",
   "metadata": {},
   "outputs": [
    {
     "name": "stderr",
     "output_type": "stream",
     "text": [
      "/tmp/ipykernel_9417/2535512961.py:2: FutureWarning: A value is trying to be set on a copy of a DataFrame or Series through chained assignment using an inplace method.\n",
      "The behavior will change in pandas 3.0. This inplace method will never work because the intermediate object on which we are setting values always behaves as a copy.\n",
      "\n",
      "For example, when doing 'df[col].method(value, inplace=True)', try using 'df.method({col: value}, inplace=True)' or df[col] = df[col].method(value) instead, to perform the operation inplace on the original object.\n",
      "\n",
      "\n",
      "  dataset['valor_compra'].fillna(mediana, inplace=True)\n"
     ]
    }
   ],
   "source": [
    "#substituir NAN por mediana\n",
    "dataset['valor_compra'].fillna(mediana, inplace=True)"
   ]
  },
  {
   "cell_type": "code",
   "execution_count": 578,
   "id": "0186aa75",
   "metadata": {},
   "outputs": [
    {
     "data": {
      "text/plain": [
       "np.int64(0)"
      ]
     },
     "execution_count": 578,
     "metadata": {},
     "output_type": "execute_result"
    }
   ],
   "source": [
    "# verificamos se NAN não existe mais \n",
    "dataset['valor_compra'].isnull().sum()"
   ]
  },
  {
   "cell_type": "code",
   "execution_count": 579,
   "id": "ecac90ef",
   "metadata": {},
   "outputs": [
    {
     "data": {
      "text/plain": [
       "genero\n",
       "F    3\n",
       "M    2\n",
       "dtype: int64"
      ]
     },
     "execution_count": 579,
     "metadata": {},
     "output_type": "execute_result"
    }
   ],
   "source": [
    "#generos\n",
    "agrupado = dataset.groupby(['genero']).size()\n",
    "agrupado"
   ]
  },
  {
   "cell_type": "code",
   "execution_count": 580,
   "id": "bec697da",
   "metadata": {},
   "outputs": [
    {
     "data": {
      "text/plain": [
       "np.int64(0)"
      ]
     },
     "execution_count": 580,
     "metadata": {},
     "output_type": "execute_result"
    }
   ],
   "source": [
    "#total de Nas \n",
    "dataset['genero'].isnull().sum()"
   ]
  },
  {
   "cell_type": "code",
   "execution_count": 581,
   "id": "40e1893c",
   "metadata": {},
   "outputs": [
    {
     "data": {
      "text/plain": [
       "genero\n",
       "Feminino     3\n",
       "Masculino    2\n",
       "dtype: int64"
      ]
     },
     "execution_count": 581,
     "metadata": {},
     "output_type": "execute_result"
    }
   ],
   "source": [
    "#padronização de acordo com o dominio \n",
    "dataset.loc[dataset['genero'] == 'M', 'genero'] = 'Masculino'\n",
    "dataset.loc[dataset['genero'].isin(['fem', 'F']), 'genero'] = 'Feminino'\n",
    "#visualizar\n",
    "agrupado = dataset.groupby(['genero']).size()\n",
    "agrupado"
   ]
  },
  {
   "cell_type": "code",
   "execution_count": 582,
   "id": "3665e8e2",
   "metadata": {},
   "outputs": [
    {
     "data": {
      "text/plain": [
       "count     5.000000\n",
       "mean     31.600000\n",
       "std       5.128353\n",
       "min      26.000000\n",
       "25%      28.000000\n",
       "50%      31.000000\n",
       "75%      34.000000\n",
       "max      39.000000\n",
       "Name: idade, dtype: float64"
      ]
     },
     "execution_count": 582,
     "metadata": {},
     "output_type": "execute_result"
    }
   ],
   "source": [
    "#idades fora do dominio \n",
    "dataset['idade'].describe()"
   ]
  },
  {
   "cell_type": "code",
   "execution_count": 583,
   "id": "0ba5a306",
   "metadata": {},
   "outputs": [
    {
     "data": {
      "text/html": [
       "<div>\n",
       "<style scoped>\n",
       "    .dataframe tbody tr th:only-of-type {\n",
       "        vertical-align: middle;\n",
       "    }\n",
       "\n",
       "    .dataframe tbody tr th {\n",
       "        vertical-align: top;\n",
       "    }\n",
       "\n",
       "    .dataframe thead th {\n",
       "        text-align: right;\n",
       "    }\n",
       "</style>\n",
       "<table border=\"1\" class=\"dataframe\">\n",
       "  <thead>\n",
       "    <tr style=\"text-align: right;\">\n",
       "      <th></th>\n",
       "      <th>id</th>\n",
       "      <th>genero</th>\n",
       "      <th>nome</th>\n",
       "      <th>idade</th>\n",
       "      <th>salario</th>\n",
       "      <th>cidade</th>\n",
       "      <th>email</th>\n",
       "      <th>status</th>\n",
       "      <th>valor_compra</th>\n",
       "      <th>data_cadastro</th>\n",
       "    </tr>\n",
       "  </thead>\n",
       "  <tbody>\n",
       "  </tbody>\n",
       "</table>\n",
       "</div>"
      ],
      "text/plain": [
       "Empty DataFrame\n",
       "Columns: [id, genero, nome, idade, salario, cidade, email, status, valor_compra, data_cadastro]\n",
       "Index: []"
      ]
     },
     "execution_count": 583,
     "metadata": {},
     "output_type": "execute_result"
    }
   ],
   "source": [
    "#visualizar\n",
    "dataset.loc[(dataset['idade'] < 20 ) | (dataset['idade'] > 56) ]"
   ]
  },
  {
   "cell_type": "code",
   "execution_count": 584,
   "id": "7bc11fe7",
   "metadata": {},
   "outputs": [
    {
     "data": {
      "text/plain": [
       "31"
      ]
     },
     "execution_count": 584,
     "metadata": {},
     "output_type": "execute_result"
    }
   ],
   "source": [
    "#calcular mediana \n",
    "mediana = sts.median(dataset['idade'])\n",
    "mediana"
   ]
  },
  {
   "cell_type": "code",
   "execution_count": 585,
   "id": "857fd4dd",
   "metadata": {},
   "outputs": [],
   "source": [
    "#substituir\n",
    "dataset.loc[(dataset['idade'] < 20) | (dataset['idade'] > 56), 'idade'] = mediana\n"
   ]
  },
  {
   "cell_type": "code",
   "execution_count": 586,
   "id": "613024e0",
   "metadata": {},
   "outputs": [
    {
     "data": {
      "text/html": [
       "<div>\n",
       "<style scoped>\n",
       "    .dataframe tbody tr th:only-of-type {\n",
       "        vertical-align: middle;\n",
       "    }\n",
       "\n",
       "    .dataframe tbody tr th {\n",
       "        vertical-align: top;\n",
       "    }\n",
       "\n",
       "    .dataframe thead th {\n",
       "        text-align: right;\n",
       "    }\n",
       "</style>\n",
       "<table border=\"1\" class=\"dataframe\">\n",
       "  <thead>\n",
       "    <tr style=\"text-align: right;\">\n",
       "      <th></th>\n",
       "      <th>id</th>\n",
       "      <th>genero</th>\n",
       "      <th>nome</th>\n",
       "      <th>idade</th>\n",
       "      <th>salario</th>\n",
       "      <th>cidade</th>\n",
       "      <th>email</th>\n",
       "      <th>status</th>\n",
       "      <th>valor_compra</th>\n",
       "      <th>data_cadastro</th>\n",
       "    </tr>\n",
       "  </thead>\n",
       "  <tbody>\n",
       "  </tbody>\n",
       "</table>\n",
       "</div>"
      ],
      "text/plain": [
       "Empty DataFrame\n",
       "Columns: [id, genero, nome, idade, salario, cidade, email, status, valor_compra, data_cadastro]\n",
       "Index: []"
      ]
     },
     "execution_count": 586,
     "metadata": {},
     "output_type": "execute_result"
    }
   ],
   "source": [
    "#verificar se ainda existe idade fora do dominio \n",
    "dataset.loc[(dataset['idade'] < 0 ) | (dataset['idade'] > 120 ) ]"
   ]
  },
  {
   "cell_type": "code",
   "execution_count": 587,
   "id": "6ab3a9a3",
   "metadata": {},
   "outputs": [
    {
     "data": {
      "text/html": [
       "<div>\n",
       "<style scoped>\n",
       "    .dataframe tbody tr th:only-of-type {\n",
       "        vertical-align: middle;\n",
       "    }\n",
       "\n",
       "    .dataframe tbody tr th {\n",
       "        vertical-align: top;\n",
       "    }\n",
       "\n",
       "    .dataframe thead th {\n",
       "        text-align: right;\n",
       "    }\n",
       "</style>\n",
       "<table border=\"1\" class=\"dataframe\">\n",
       "  <thead>\n",
       "    <tr style=\"text-align: right;\">\n",
       "      <th></th>\n",
       "      <th>id</th>\n",
       "      <th>genero</th>\n",
       "      <th>nome</th>\n",
       "      <th>idade</th>\n",
       "      <th>salario</th>\n",
       "      <th>cidade</th>\n",
       "      <th>email</th>\n",
       "      <th>status</th>\n",
       "      <th>valor_compra</th>\n",
       "      <th>data_cadastro</th>\n",
       "    </tr>\n",
       "  </thead>\n",
       "  <tbody>\n",
       "  </tbody>\n",
       "</table>\n",
       "</div>"
      ],
      "text/plain": [
       "Empty DataFrame\n",
       "Columns: [id, genero, nome, idade, salario, cidade, email, status, valor_compra, data_cadastro]\n",
       "Index: []"
      ]
     },
     "execution_count": 587,
     "metadata": {},
     "output_type": "execute_result"
    }
   ],
   "source": [
    "#dados duplicados, buscamos pelo id\n",
    "dataset[dataset.duplicated(['id'], keep=False)]"
   ]
  }
 ],
 "metadata": {
  "kernelspec": {
   "display_name": "venv",
   "language": "python",
   "name": "python3"
  },
  "language_info": {
   "codemirror_mode": {
    "name": "ipython",
    "version": 3
   },
   "file_extension": ".py",
   "mimetype": "text/x-python",
   "name": "python",
   "nbconvert_exporter": "python",
   "pygments_lexer": "ipython3",
   "version": "3.12.3"
  }
 },
 "nbformat": 4,
 "nbformat_minor": 5
}
