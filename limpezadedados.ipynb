{
 "cells": [
  {
   "cell_type": "code",
   "execution_count": 26,
   "id": "6faa9f58",
   "metadata": {},
   "outputs": [],
   "source": [
    "import pandas as pd\n",
    "import seaborn as srn\n",
    "import statistics as sts\n",
    "import matplotlib.pyplot as plt\n"
   ]
  },
  {
   "cell_type": "code",
   "execution_count": 27,
   "id": "9997920d",
   "metadata": {},
   "outputs": [],
   "source": [
    "df = pd.DataFrame"
   ]
  },
  {
   "cell_type": "code",
   "execution_count": null,
   "id": "56f8b462",
   "metadata": {},
   "outputs": [],
   "source": []
  },
  {
   "cell_type": "code",
   "execution_count": 28,
   "id": "01eafa89",
   "metadata": {},
   "outputs": [
    {
     "data": {
      "text/html": [
       "<div>\n",
       "<style scoped>\n",
       "    .dataframe tbody tr th:only-of-type {\n",
       "        vertical-align: middle;\n",
       "    }\n",
       "\n",
       "    .dataframe tbody tr th {\n",
       "        vertical-align: top;\n",
       "    }\n",
       "\n",
       "    .dataframe thead th {\n",
       "        text-align: right;\n",
       "    }\n",
       "</style>\n",
       "<table border=\"1\" class=\"dataframe\">\n",
       "  <thead>\n",
       "    <tr style=\"text-align: right;\">\n",
       "      <th></th>\n",
       "      <th>genero</th>\n",
       "      <th>nome</th>\n",
       "      <th>salario</th>\n",
       "      <th>cidade</th>\n",
       "      <th>email</th>\n",
       "      <th>status</th>\n",
       "      <th>valor_compra</th>\n",
       "      <th>data_cadastro</th>\n",
       "    </tr>\n",
       "  </thead>\n",
       "  <tbody>\n",
       "    <tr>\n",
       "      <th>0</th>\n",
       "      <td>F</td>\n",
       "      <td>Ana Souza</td>\n",
       "      <td>3200.50</td>\n",
       "      <td>Recife</td>\n",
       "      <td>ana.souza@email.com</td>\n",
       "      <td>ativo</td>\n",
       "      <td>150.75</td>\n",
       "      <td>2023-01-15</td>\n",
       "    </tr>\n",
       "    <tr>\n",
       "      <th>1</th>\n",
       "      <td>M</td>\n",
       "      <td>Bruno Lima</td>\n",
       "      <td>4100.00</td>\n",
       "      <td>São Paulo</td>\n",
       "      <td>bruno.lima@email.com</td>\n",
       "      <td>inativo</td>\n",
       "      <td>0.00</td>\n",
       "      <td>2022-11-08</td>\n",
       "    </tr>\n",
       "    <tr>\n",
       "      <th>2</th>\n",
       "      <td>F</td>\n",
       "      <td>Camila Alves</td>\n",
       "      <td>2750.80</td>\n",
       "      <td>Belo Horizonte</td>\n",
       "      <td>camila.alves@email.com</td>\n",
       "      <td>ativo</td>\n",
       "      <td>230.00</td>\n",
       "      <td>2023-06-22</td>\n",
       "    </tr>\n",
       "    <tr>\n",
       "      <th>3</th>\n",
       "      <td>M</td>\n",
       "      <td>Diego Martins</td>\n",
       "      <td>5300.25</td>\n",
       "      <td>Curitiba</td>\n",
       "      <td>diego.martins@email.com</td>\n",
       "      <td>ativo</td>\n",
       "      <td>1250.90</td>\n",
       "      <td>2023-03-10</td>\n",
       "    </tr>\n",
       "    <tr>\n",
       "      <th>4</th>\n",
       "      <td>F</td>\n",
       "      <td>Eliane Costa</td>\n",
       "      <td>2980.00</td>\n",
       "      <td>Salvador</td>\n",
       "      <td>eliane.costa@email.com</td>\n",
       "      <td>inativo</td>\n",
       "      <td>0.00</td>\n",
       "      <td>2022-12-01</td>\n",
       "    </tr>\n",
       "  </tbody>\n",
       "</table>\n",
       "</div>"
      ],
      "text/plain": [
       "  genero           nome  salario          cidade                    email  \\\n",
       "0      F      Ana Souza  3200.50          Recife      ana.souza@email.com   \n",
       "1      M     Bruno Lima  4100.00       São Paulo     bruno.lima@email.com   \n",
       "2      F   Camila Alves  2750.80  Belo Horizonte   camila.alves@email.com   \n",
       "3      M  Diego Martins  5300.25        Curitiba  diego.martins@email.com   \n",
       "4      F   Eliane Costa  2980.00        Salvador   eliane.costa@email.com   \n",
       "\n",
       "    status  valor_compra data_cadastro  \n",
       "0    ativo        150.75    2023-01-15  \n",
       "1  inativo          0.00    2022-11-08  \n",
       "2    ativo        230.00    2023-06-22  \n",
       "3    ativo       1250.90    2023-03-10  \n",
       "4  inativo          0.00    2022-12-01  "
      ]
     },
     "execution_count": 28,
     "metadata": {},
     "output_type": "execute_result"
    }
   ],
   "source": [
    "#importar dados\n",
    "dataset = pd.read_csv(\"limpezadados.csv\", sep=\",\")\n",
    "#visualizar\n",
    "dataset.head()"
   ]
  },
  {
   "cell_type": "code",
   "execution_count": 29,
   "id": "c04210f9",
   "metadata": {},
   "outputs": [
    {
     "data": {
      "text/plain": [
       "(5, 8)"
      ]
     },
     "execution_count": 29,
     "metadata": {},
     "output_type": "execute_result"
    }
   ],
   "source": [
    "#tamanho \n",
    "dataset.shape"
   ]
  },
  {
   "cell_type": "code",
   "execution_count": 30,
   "id": "f6e4e518",
   "metadata": {},
   "outputs": [
    {
     "data": {
      "text/plain": [
       "cidade\n",
       "Belo Horizonte    1\n",
       "Curitiba          1\n",
       "Recife            1\n",
       "Salvador          1\n",
       "São Paulo         1\n",
       "dtype: int64"
      ]
     },
     "execution_count": 30,
     "metadata": {},
     "output_type": "execute_result"
    }
   ],
   "source": [
    "#explorar dados categorias \n",
    "#estado\n",
    "agrupado = dataset.groupby(['cidade']).size()\n",
    "agrupado"
   ]
  },
  {
   "cell_type": "code",
   "execution_count": 31,
   "id": "c43e7a64",
   "metadata": {},
   "outputs": [
    {
     "data": {
      "text/plain": [
       "<Axes: xlabel='cidade'>"
      ]
     },
     "execution_count": 31,
     "metadata": {},
     "output_type": "execute_result"
    },
    {
     "data": {
      "image/png": "[encoded data removed]",
      "text/plain": [
       "<Figure size 640x480 with 1 Axes>"
      ]
     },
     "metadata": {},
     "output_type": "display_data"
    }
   ],
   "source": [
    "agrupado.plot.bar(color = 'blue')"
   ]
  },
  {
   "cell_type": "code",
   "execution_count": 32,
   "id": "c9965938",
   "metadata": {},
   "outputs": [
    {
     "data": {
      "text/plain": [
       "status\n",
       "ativo      3\n",
       "inativo    2\n",
       "dtype: int64"
      ]
     },
     "execution_count": 32,
     "metadata": {},
     "output_type": "execute_result"
    }
   ],
   "source": [
    "#genero \n",
    "agrupado = dataset.groupby(['status']).size()\n",
    "agrupado"
   ]
  },
  {
   "cell_type": "code",
   "execution_count": 33,
   "id": "f014de72",
   "metadata": {},
   "outputs": [
    {
     "data": {
      "text/plain": [
       "<Axes: xlabel='status'>"
      ]
     },
     "execution_count": 33,
     "metadata": {},
     "output_type": "execute_result"
    },
    {
     "data": {
      "image/png": "[encoded data removed]",
      "text/plain": [
       "<Figure size 640x480 with 1 Axes>"
      ]
     },
     "metadata": {},
     "output_type": "display_data"
    }
   ],
   "source": [
    "agrupado.plot.bar(color='gray')"
   ]
  },
  {
   "cell_type": "code",
   "execution_count": 34,
   "id": "99e24b15",
   "metadata": {},
   "outputs": [
    {
     "data": {
      "text/plain": [
       "count       5.000000\n",
       "mean      326.330000\n",
       "std       526.288901\n",
       "min         0.000000\n",
       "25%         0.000000\n",
       "50%       150.750000\n",
       "75%       230.000000\n",
       "max      1250.900000\n",
       "Name: valor_compra, dtype: float64"
      ]
     },
     "execution_count": 34,
     "metadata": {},
     "output_type": "execute_result"
    }
   ],
   "source": [
    "#explorar colunas numéricos\n",
    "#score\n",
    "dataset['valor_compra'].describe()"
   ]
  },
  {
   "cell_type": "code",
   "execution_count": 35,
   "id": "352ce7c6",
   "metadata": {},
   "outputs": [
    {
     "data": {
      "text/plain": [
       "Text(0.5, 1.0, 'Contagem por Cidade')"
      ]
     },
     "execution_count": 35,
     "metadata": {},
     "output_type": "execute_result"
    },
    {
     "data": {
      "image/png": "[encoded data removed]",
      "text/plain": [
       "<Figure size 640x480 with 1 Axes>"
      ]
     },
     "metadata": {},
     "output_type": "display_data"
    }
   ],
   "source": [
    "srn.countplot(x='cidade', data=dataset).set_title('Contagem por Cidade')"
   ]
  },
  {
   "cell_type": "code",
   "execution_count": 36,
   "id": "99493fe3",
   "metadata": {},
   "outputs": [
    {
     "ename": "KeyError",
     "evalue": "'Cidade'",
     "output_type": "error",
     "traceback": [
      "\u001b[31m---------------------------------------------------------------------------\u001b[39m",
      "\u001b[31mKeyError\u001b[39m                                  Traceback (most recent call last)",
      "\u001b[36mFile \u001b[39m\u001b[32m~/ta_aqui_o/Python/venv/lib/python3.12/site-packages/pandas/core/indexes/base.py:3805\u001b[39m, in \u001b[36mIndex.get_loc\u001b[39m\u001b[34m(self, key)\u001b[39m\n\u001b[32m   3804\u001b[39m \u001b[38;5;28;01mtry\u001b[39;00m:\n\u001b[32m-> \u001b[39m\u001b[32m3805\u001b[39m     \u001b[38;5;28;01mreturn\u001b[39;00m \u001b[38;5;28;43mself\u001b[39;49m\u001b[43m.\u001b[49m\u001b[43m_engine\u001b[49m\u001b[43m.\u001b[49m\u001b[43mget_loc\u001b[49m\u001b[43m(\u001b[49m\u001b[43mcasted_key\u001b[49m\u001b[43m)\u001b[49m\n\u001b[32m   3806\u001b[39m \u001b[38;5;28;01mexcept\u001b[39;00m \u001b[38;5;167;01mKeyError\u001b[39;00m \u001b[38;5;28;01mas\u001b[39;00m err:\n",
      "\u001b[36mFile \u001b[39m\u001b[32mindex.pyx:167\u001b[39m, in \u001b[36mpandas._libs.index.IndexEngine.get_loc\u001b[39m\u001b[34m()\u001b[39m\n",
      "\u001b[36mFile \u001b[39m\u001b[32mindex.pyx:196\u001b[39m, in \u001b[36mpandas._libs.index.IndexEngine.get_loc\u001b[39m\u001b[34m()\u001b[39m\n",
      "\u001b[36mFile \u001b[39m\u001b[32mpandas/_libs/hashtable_class_helper.pxi:7081\u001b[39m, in \u001b[36mpandas._libs.hashtable.PyObjectHashTable.get_item\u001b[39m\u001b[34m()\u001b[39m\n",
      "\u001b[36mFile \u001b[39m\u001b[32mpandas/_libs/hashtable_class_helper.pxi:7089\u001b[39m, in \u001b[36mpandas._libs.hashtable.PyObjectHashTable.get_item\u001b[39m\u001b[34m()\u001b[39m\n",
      "\u001b[31mKeyError\u001b[39m: 'Cidade'",
      "\nThe above exception was the direct cause of the following exception:\n",
      "\u001b[31mKeyError\u001b[39m                                  Traceback (most recent call last)",
      "\u001b[36mCell\u001b[39m\u001b[36m \u001b[39m\u001b[32mIn[36]\u001b[39m\u001b[32m, line 1\u001b[39m\n\u001b[32m----> \u001b[39m\u001b[32m1\u001b[39m srn.displot(\u001b[43mdataset\u001b[49m\u001b[43m[\u001b[49m\u001b[33;43m'\u001b[39;49m\u001b[33;43mCidade\u001b[39;49m\u001b[33;43m'\u001b[39;49m\u001b[43m]\u001b[49m).set_titles(\u001b[33m'\u001b[39m\u001b[33mCidade\u001b[39m\u001b[33m'\u001b[39m)\n",
      "\u001b[36mFile \u001b[39m\u001b[32m~/ta_aqui_o/Python/venv/lib/python3.12/site-packages/pandas/core/frame.py:4102\u001b[39m, in \u001b[36mDataFrame.__getitem__\u001b[39m\u001b[34m(self, key)\u001b[39m\n\u001b[32m   4100\u001b[39m \u001b[38;5;28;01mif\u001b[39;00m \u001b[38;5;28mself\u001b[39m.columns.nlevels > \u001b[32m1\u001b[39m:\n\u001b[32m   4101\u001b[39m     \u001b[38;5;28;01mreturn\u001b[39;00m \u001b[38;5;28mself\u001b[39m._getitem_multilevel(key)\n\u001b[32m-> \u001b[39m\u001b[32m4102\u001b[39m indexer = \u001b[38;5;28;43mself\u001b[39;49m\u001b[43m.\u001b[49m\u001b[43mcolumns\u001b[49m\u001b[43m.\u001b[49m\u001b[43mget_loc\u001b[49m\u001b[43m(\u001b[49m\u001b[43mkey\u001b[49m\u001b[43m)\u001b[49m\n\u001b[32m   4103\u001b[39m \u001b[38;5;28;01mif\u001b[39;00m is_integer(indexer):\n\u001b[32m   4104\u001b[39m     indexer = [indexer]\n",
      "\u001b[36mFile \u001b[39m\u001b[32m~/ta_aqui_o/Python/venv/lib/python3.12/site-packages/pandas/core/indexes/base.py:3812\u001b[39m, in \u001b[36mIndex.get_loc\u001b[39m\u001b[34m(self, key)\u001b[39m\n\u001b[32m   3807\u001b[39m     \u001b[38;5;28;01mif\u001b[39;00m \u001b[38;5;28misinstance\u001b[39m(casted_key, \u001b[38;5;28mslice\u001b[39m) \u001b[38;5;129;01mor\u001b[39;00m (\n\u001b[32m   3808\u001b[39m         \u001b[38;5;28misinstance\u001b[39m(casted_key, abc.Iterable)\n\u001b[32m   3809\u001b[39m         \u001b[38;5;129;01mand\u001b[39;00m \u001b[38;5;28many\u001b[39m(\u001b[38;5;28misinstance\u001b[39m(x, \u001b[38;5;28mslice\u001b[39m) \u001b[38;5;28;01mfor\u001b[39;00m x \u001b[38;5;129;01min\u001b[39;00m casted_key)\n\u001b[32m   3810\u001b[39m     ):\n\u001b[32m   3811\u001b[39m         \u001b[38;5;28;01mraise\u001b[39;00m InvalidIndexError(key)\n\u001b[32m-> \u001b[39m\u001b[32m3812\u001b[39m     \u001b[38;5;28;01mraise\u001b[39;00m \u001b[38;5;167;01mKeyError\u001b[39;00m(key) \u001b[38;5;28;01mfrom\u001b[39;00m\u001b[38;5;250m \u001b[39m\u001b[34;01merr\u001b[39;00m\n\u001b[32m   3813\u001b[39m \u001b[38;5;28;01mexcept\u001b[39;00m \u001b[38;5;167;01mTypeError\u001b[39;00m:\n\u001b[32m   3814\u001b[39m     \u001b[38;5;66;03m# If we have a listlike key, _check_indexing_error will raise\u001b[39;00m\n\u001b[32m   3815\u001b[39m     \u001b[38;5;66;03m#  InvalidIndexError. Otherwise we fall through and re-raise\u001b[39;00m\n\u001b[32m   3816\u001b[39m     \u001b[38;5;66;03m#  the TypeError.\u001b[39;00m\n\u001b[32m   3817\u001b[39m     \u001b[38;5;28mself\u001b[39m._check_indexing_error(key)\n",
      "\u001b[31mKeyError\u001b[39m: 'Cidade'"
     ]
    }
   ],
   "source": [
    "srn.displot(dataset['Cidade']).set_titles('Cidade')"
   ]
  },
  {
   "cell_type": "code",
   "execution_count": null,
   "id": "7d6b67d8",
   "metadata": {},
   "outputs": [],
   "source": [
    "#idade\n",
    "dataset['Idade'].describe()"
   ]
  },
  {
   "cell_type": "code",
   "execution_count": null,
   "id": "40b784e4",
   "metadata": {},
   "outputs": [],
   "source": [
    "srn.boxplot(dataset['Idade']).set_title('Idade')"
   ]
  },
  {
   "cell_type": "code",
   "execution_count": null,
   "id": "0ad5ceb8",
   "metadata": {},
   "outputs": [],
   "source": [
    "srn.distplot(dataset['Idade']).set_title('Idade')"
   ]
  },
  {
   "cell_type": "code",
   "execution_count": null,
   "id": "d83ff30e",
   "metadata": {},
   "outputs": [],
   "source": [
    "#saldo \n",
    "dataset['Valor_Compra'].describe()"
   ]
  },
  {
   "cell_type": "code",
   "execution_count": null,
   "id": "a5842c2e",
   "metadata": {},
   "outputs": [],
   "source": [
    "srn.boxplot(dataset['Valor_Compra']).set_title('Valor_Compra')"
   ]
  },
  {
   "cell_type": "code",
   "execution_count": null,
   "id": "2d607b13",
   "metadata": {},
   "outputs": [],
   "source": [
    "srn.distplot(dataset['Valor_Compra']).set_title('Valor_Compra')"
   ]
  },
  {
   "cell_type": "code",
   "execution_count": null,
   "id": "66fcec25",
   "metadata": {},
   "outputs": [],
   "source": [
    "#contamos valores NAN\n",
    "#genero e salário\n",
    "dataset['Status'].describe()"
   ]
  },
  {
   "cell_type": "code",
   "execution_count": null,
   "id": "cca95512",
   "metadata": {},
   "outputs": [],
   "source": [
    "mediana = sts.median(dataset['Valor_Compra'])\n",
    "mediana"
   ]
  },
  {
   "cell_type": "code",
   "execution_count": null,
   "id": "e91fe9f9",
   "metadata": {},
   "outputs": [],
   "source": [
    "#substituir NAN por mediana\n",
    "dataset['Valor_Compra'].fillna(mediana, inplace=True)"
   ]
  },
  {
   "cell_type": "code",
   "execution_count": null,
   "id": "0186aa75",
   "metadata": {},
   "outputs": [],
   "source": [
    "# verificamos se NAN não existe mais \n",
    "dataset['Valor_Compra'].isnull().sum()"
   ]
  }
 ],
 "metadata": {
  "kernelspec": {
   "display_name": "venv",
   "language": "python",
   "name": "python3"
  },
  "language_info": {
   "codemirror_mode": {
    "name": "ipython",
    "version": 3
   },
   "file_extension": ".py",
   "mimetype": "text/x-python",
   "name": "python",
   "nbconvert_exporter": "python",
   "pygments_lexer": "ipython3",
   "version": "3.12.3"
  }
 },
 "nbformat": 4,
 "nbformat_minor": 5
}
