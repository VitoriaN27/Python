{
 "cells": [
  {
   "cell_type": "code",
   "execution_count": 9,
   "id": "6faa9f58",
   "metadata": {},
   "outputs": [],
   "source": [
    "import pandas as pd\n",
    "import seaborn as srn\n",
    "import statistics as sts"
   ]
  },
  {
   "cell_type": "code",
   "execution_count": 10,
   "id": "01eafa89",
   "metadata": {},
   "outputs": [
    {
     "data": {
      "text/plain": [
       "<bound method NDFrame.head of    ID           Nome  Idade               E-mail          Cidade  \\\n",
       "0   1     Ana Silva    29.0  ana.silva@email.com       São Paulo   \n",
       "1   2    Bruno Souza   35.0      bruno@email.com  Rio de Janeiro   \n",
       "2   3     Carla Lima    NaN      carla@email.com  Belo Horizonte   \n",
       "3   4  Diego Martins   42.0                  NaN       São Paulo   \n",
       "4   5    Elisa Rocha   23.0      elisa@email.com    Porto Alegre   \n",
       "5   6   Felipe Alves   31.0     felipe@email.com             NaN   \n",
       "6   7  Gabriela Mota   27.0   gabriela@email.com          Recife   \n",
       "\n",
       "  Data_Cadastro  Valor_Compra   Status  \n",
       "0    2024-01-10        250.75    ativo  \n",
       "1    2023-11-22          0.00  Inativo  \n",
       "2    2024-03-05        150.00    Ativo  \n",
       "3    2022-07-19        430.50    ativo  \n",
       "4    2025-01-01          0.00  inativo  \n",
       "5    2024-08-17        280.20    ATIVO  \n",
       "6    2023-09-10           NaN    Ativo  >"
      ]
     },
     "execution_count": 10,
     "metadata": {},
     "output_type": "execute_result"
    }
   ],
   "source": [
    "#importar dados\n",
    "dataset = pd.read_csv(\"limpezadados.csv\", sep=\",\")\n",
    "#visualizar\n",
    "dataset.head"
   ]
  },
  {
   "cell_type": "code",
   "execution_count": 11,
   "id": "c04210f9",
   "metadata": {},
   "outputs": [
    {
     "data": {
      "text/plain": [
       "(7, 8)"
      ]
     },
     "execution_count": 11,
     "metadata": {},
     "output_type": "execute_result"
    }
   ],
   "source": [
    "#tamanho \n",
    "dataset.shape"
   ]
  },
  {
   "cell_type": "code",
   "execution_count": null,
   "id": "69493142",
   "metadata": {},
   "outputs": [],
   "source": [
    "#primeiro problema pe dar nomes as colunas\n",
    "dataset.columns = []"
   ]
  }
 ],
 "metadata": {
  "kernelspec": {
   "display_name": "venv",
   "language": "python",
   "name": "python3"
  },
  "language_info": {
   "codemirror_mode": {
    "name": "ipython",
    "version": 3
   },
   "file_extension": ".py",
   "mimetype": "text/x-python",
   "name": "python",
   "nbconvert_exporter": "python",
   "pygments_lexer": "ipython3",
   "version": "3.12.3"
  }
 },
 "nbformat": 4,
 "nbformat_minor": 5
}
