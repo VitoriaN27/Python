{
 "cells": [
  {
   "cell_type": "code",
   "execution_count": 2,
   "id": "a866e59a",
   "metadata": {},
   "outputs": [
    {
     "name": "stdout",
     "output_type": "stream",
     "text": [
      "25\n",
      "25.0\n"
     ]
    }
   ],
   "source": [
    "import statistics\n",
    "z = [10,20,30,40]\n",
    "x = statistics.mean(z)\n",
    "y = statistics.median(z)\n",
    "print(x)\n",
    "print(y)"
   ]
  },
  {
   "cell_type": "code",
   "execution_count": 3,
   "id": "c9b0cbc4",
   "metadata": {},
   "outputs": [
    {
     "name": "stdout",
     "output_type": "stream",
     "text": [
      "25\n",
      "25.0\n"
     ]
    }
   ],
   "source": [
    "import statistics as est\n",
    "z = [10,20,30,40]\n",
    "x = est.mean(z)\n",
    "y = est.median(z)\n",
    "print(x)\n",
    "print(y)"
   ]
  },
  {
   "cell_type": "code",
   "execution_count": 4,
   "id": "fb09afee",
   "metadata": {},
   "outputs": [
    {
     "name": "stdout",
     "output_type": "stream",
     "text": [
      "25\n",
      "25.0\n"
     ]
    }
   ],
   "source": [
    "from statistics import mean, median\n",
    "z = [10,20,30,40]\n",
    "x = mean(z)\n",
    "y = median(z)\n",
    "print(x)\n",
    "print(y)"
   ]
  }
 ],
 "metadata": {
  "kernelspec": {
   "display_name": "base",
   "language": "python",
   "name": "python3"
  },
  "language_info": {
   "codemirror_mode": {
    "name": "ipython",
    "version": 3
   },
   "file_extension": ".py",
   "mimetype": "text/x-python",
   "name": "python",
   "nbconvert_exporter": "python",
   "pygments_lexer": "ipython3",
   "version": "3.9.13"
  }
 },
 "nbformat": 4,
 "nbformat_minor": 5
}
