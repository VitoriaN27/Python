{
 "cells": [
  {
   "cell_type": "code",
   "execution_count": 636,
   "id": "35a3e8b2",
   "metadata": {},
   "outputs": [],
   "source": [
    "import pandas as pd "
   ]
  },
  {
   "cell_type": "code",
   "execution_count": 637,
   "id": "ae79d5fd",
   "metadata": {},
   "outputs": [
    {
     "data": {
      "text/html": [
       "<div>\n",
       "<style scoped>\n",
       "    .dataframe tbody tr th:only-of-type {\n",
       "        vertical-align: middle;\n",
       "    }\n",
       "\n",
       "    .dataframe tbody tr th {\n",
       "        vertical-align: top;\n",
       "    }\n",
       "\n",
       "    .dataframe thead th {\n",
       "        text-align: right;\n",
       "    }\n",
       "</style>\n",
       "<table border=\"1\" class=\"dataframe\">\n",
       "  <thead>\n",
       "    <tr style=\"text-align: right;\">\n",
       "      <th></th>\n",
       "      <th>Nome</th>\n",
       "      <th>Idade</th>\n",
       "      <th>Cidade</th>\n",
       "      <th>Saldo</th>\n",
       "    </tr>\n",
       "  </thead>\n",
       "  <tbody>\n",
       "    <tr>\n",
       "      <th>0</th>\n",
       "      <td>Vit</td>\n",
       "      <td>25</td>\n",
       "      <td>SP</td>\n",
       "      <td>3200.50</td>\n",
       "    </tr>\n",
       "    <tr>\n",
       "      <th>1</th>\n",
       "      <td>Ana</td>\n",
       "      <td>30</td>\n",
       "      <td>RJ</td>\n",
       "      <td>4100.00</td>\n",
       "    </tr>\n",
       "    <tr>\n",
       "      <th>2</th>\n",
       "      <td>João</td>\n",
       "      <td>22</td>\n",
       "      <td>BH</td>\n",
       "      <td>2890.75</td>\n",
       "    </tr>\n",
       "    <tr>\n",
       "      <th>3</th>\n",
       "      <td>Lucas</td>\n",
       "      <td>28</td>\n",
       "      <td>SP</td>\n",
       "      <td>5000.10</td>\n",
       "    </tr>\n",
       "    <tr>\n",
       "      <th>4</th>\n",
       "      <td>Maria</td>\n",
       "      <td>35</td>\n",
       "      <td>MG</td>\n",
       "      <td>3900.00</td>\n",
       "    </tr>\n",
       "  </tbody>\n",
       "</table>\n",
       "</div>"
      ],
      "text/plain": [
       "    Nome  Idade Cidade    Saldo\n",
       "0    Vit     25     SP  3200.50\n",
       "1    Ana     30     RJ  4100.00\n",
       "2   João     22     BH  2890.75\n",
       "3  Lucas     28     SP  5000.10\n",
       "4  Maria     35     MG  3900.00"
      ]
     },
     "execution_count": 637,
     "metadata": {},
     "output_type": "execute_result"
    }
   ],
   "source": [
    "#carregar arquivo para dataframe pandas\n",
    "dados = pd.read_csv(\"teste.csv\")\n",
    "dados"
   ]
  },
  {
   "cell_type": "code",
   "execution_count": 638,
   "id": "d3e8aeaa",
   "metadata": {},
   "outputs": [
    {
     "data": {
      "text/plain": [
       "(5, 4)"
      ]
     },
     "execution_count": 638,
     "metadata": {},
     "output_type": "execute_result"
    }
   ],
   "source": [
    "#formato\n",
    "dados.shape"
   ]
  },
  {
   "cell_type": "code",
   "execution_count": 639,
   "id": "e3c848ba",
   "metadata": {},
   "outputs": [
    {
     "data": {
      "text/plain": [
       "<bound method NDFrame.describe of     Nome  Idade Cidade    Saldo\n",
       "0    Vit     25     SP  3200.50\n",
       "1    Ana     30     RJ  4100.00\n",
       "2   João     22     BH  2890.75\n",
       "3  Lucas     28     SP  5000.10\n",
       "4  Maria     35     MG  3900.00>"
      ]
     },
     "execution_count": 639,
     "metadata": {},
     "output_type": "execute_result"
    }
   ],
   "source": [
    "#resumo estatistico de colunas numericas\n",
    "dados.describe"
   ]
  },
  {
   "cell_type": "code",
   "execution_count": 640,
   "id": "1657be41",
   "metadata": {},
   "outputs": [
    {
     "data": {
      "text/plain": [
       "<bound method NDFrame.head of     Nome  Idade Cidade    Saldo\n",
       "0    Vit     25     SP  3200.50\n",
       "1    Ana     30     RJ  4100.00\n",
       "2   João     22     BH  2890.75\n",
       "3  Lucas     28     SP  5000.10\n",
       "4  Maria     35     MG  3900.00>"
      ]
     },
     "execution_count": 640,
     "metadata": {},
     "output_type": "execute_result"
    }
   ],
   "source": [
    "#primeiros registros \n",
    "dados.head"
   ]
  },
  {
   "cell_type": "code",
   "execution_count": 641,
   "id": "f70d1c5b",
   "metadata": {},
   "outputs": [
    {
     "data": {
      "text/html": [
       "<div>\n",
       "<style scoped>\n",
       "    .dataframe tbody tr th:only-of-type {\n",
       "        vertical-align: middle;\n",
       "    }\n",
       "\n",
       "    .dataframe tbody tr th {\n",
       "        vertical-align: top;\n",
       "    }\n",
       "\n",
       "    .dataframe thead th {\n",
       "        text-align: right;\n",
       "    }\n",
       "</style>\n",
       "<table border=\"1\" class=\"dataframe\">\n",
       "  <thead>\n",
       "    <tr style=\"text-align: right;\">\n",
       "      <th></th>\n",
       "      <th>Nome</th>\n",
       "      <th>Idade</th>\n",
       "      <th>Cidade</th>\n",
       "      <th>Saldo</th>\n",
       "    </tr>\n",
       "  </thead>\n",
       "  <tbody>\n",
       "    <tr>\n",
       "      <th>3</th>\n",
       "      <td>Lucas</td>\n",
       "      <td>28</td>\n",
       "      <td>SP</td>\n",
       "      <td>5000.1</td>\n",
       "    </tr>\n",
       "    <tr>\n",
       "      <th>4</th>\n",
       "      <td>Maria</td>\n",
       "      <td>35</td>\n",
       "      <td>MG</td>\n",
       "      <td>3900.0</td>\n",
       "    </tr>\n",
       "  </tbody>\n",
       "</table>\n",
       "</div>"
      ],
      "text/plain": [
       "    Nome  Idade Cidade   Saldo\n",
       "3  Lucas     28     SP  5000.1\n",
       "4  Maria     35     MG  3900.0"
      ]
     },
     "execution_count": 641,
     "metadata": {},
     "output_type": "execute_result"
    }
   ],
   "source": [
    "#ultimos registros, com parametros \n",
    "dados.tail(2)"
   ]
  },
  {
   "cell_type": "code",
   "execution_count": 642,
   "id": "0caf9592",
   "metadata": {},
   "outputs": [
    {
     "data": {
      "text/html": [
       "<div>\n",
       "<style scoped>\n",
       "    .dataframe tbody tr th:only-of-type {\n",
       "        vertical-align: middle;\n",
       "    }\n",
       "\n",
       "    .dataframe tbody tr th {\n",
       "        vertical-align: top;\n",
       "    }\n",
       "\n",
       "    .dataframe thead th {\n",
       "        text-align: right;\n",
       "    }\n",
       "</style>\n",
       "<table border=\"1\" class=\"dataframe\">\n",
       "  <thead>\n",
       "    <tr style=\"text-align: right;\">\n",
       "      <th></th>\n",
       "      <th>Saldo</th>\n",
       "    </tr>\n",
       "  </thead>\n",
       "  <tbody>\n",
       "    <tr>\n",
       "      <th>0</th>\n",
       "      <td>3200.50</td>\n",
       "    </tr>\n",
       "    <tr>\n",
       "      <th>1</th>\n",
       "      <td>4100.00</td>\n",
       "    </tr>\n",
       "    <tr>\n",
       "      <th>2</th>\n",
       "      <td>2890.75</td>\n",
       "    </tr>\n",
       "    <tr>\n",
       "      <th>3</th>\n",
       "      <td>5000.10</td>\n",
       "    </tr>\n",
       "    <tr>\n",
       "      <th>4</th>\n",
       "      <td>3900.00</td>\n",
       "    </tr>\n",
       "  </tbody>\n",
       "</table>\n",
       "</div>"
      ],
      "text/plain": [
       "     Saldo\n",
       "0  3200.50\n",
       "1  4100.00\n",
       "2  2890.75\n",
       "3  5000.10\n",
       "4  3900.00"
      ]
     },
     "execution_count": 642,
     "metadata": {},
     "output_type": "execute_result"
    }
   ],
   "source": [
    "#filtrar por nome da coluna \n",
    "dados[[\"Saldo\"]]"
   ]
  },
  {
   "cell_type": "code",
   "execution_count": 643,
   "id": "bf372048",
   "metadata": {},
   "outputs": [
    {
     "data": {
      "text/html": [
       "<div>\n",
       "<style scoped>\n",
       "    .dataframe tbody tr th:only-of-type {\n",
       "        vertical-align: middle;\n",
       "    }\n",
       "\n",
       "    .dataframe tbody tr th {\n",
       "        vertical-align: top;\n",
       "    }\n",
       "\n",
       "    .dataframe thead th {\n",
       "        text-align: right;\n",
       "    }\n",
       "</style>\n",
       "<table border=\"1\" class=\"dataframe\">\n",
       "  <thead>\n",
       "    <tr style=\"text-align: right;\">\n",
       "      <th></th>\n",
       "      <th>Nome</th>\n",
       "      <th>Idade</th>\n",
       "      <th>Cidade</th>\n",
       "      <th>Saldo</th>\n",
       "    </tr>\n",
       "  </thead>\n",
       "  <tbody>\n",
       "    <tr>\n",
       "      <th>1</th>\n",
       "      <td>Ana</td>\n",
       "      <td>30</td>\n",
       "      <td>RJ</td>\n",
       "      <td>4100.00</td>\n",
       "    </tr>\n",
       "    <tr>\n",
       "      <th>2</th>\n",
       "      <td>João</td>\n",
       "      <td>22</td>\n",
       "      <td>BH</td>\n",
       "      <td>2890.75</td>\n",
       "    </tr>\n",
       "    <tr>\n",
       "      <th>3</th>\n",
       "      <td>Lucas</td>\n",
       "      <td>28</td>\n",
       "      <td>SP</td>\n",
       "      <td>5000.10</td>\n",
       "    </tr>\n",
       "  </tbody>\n",
       "</table>\n",
       "</div>"
      ],
      "text/plain": [
       "    Nome  Idade Cidade    Saldo\n",
       "1    Ana     30     RJ  4100.00\n",
       "2   João     22     BH  2890.75\n",
       "3  Lucas     28     SP  5000.10"
      ]
     },
     "execution_count": 643,
     "metadata": {},
     "output_type": "execute_result"
    }
   ],
   "source": [
    "#filtrar linhas por indice\n",
    "dados.loc[1:3]"
   ]
  },
  {
   "cell_type": "code",
   "execution_count": 644,
   "id": "774f9df2",
   "metadata": {},
   "outputs": [
    {
     "data": {
      "text/html": [
       "<div>\n",
       "<style scoped>\n",
       "    .dataframe tbody tr th:only-of-type {\n",
       "        vertical-align: middle;\n",
       "    }\n",
       "\n",
       "    .dataframe tbody tr th {\n",
       "        vertical-align: top;\n",
       "    }\n",
       "\n",
       "    .dataframe thead th {\n",
       "        text-align: right;\n",
       "    }\n",
       "</style>\n",
       "<table border=\"1\" class=\"dataframe\">\n",
       "  <thead>\n",
       "    <tr style=\"text-align: right;\">\n",
       "      <th></th>\n",
       "      <th>Nome</th>\n",
       "      <th>Idade</th>\n",
       "      <th>Cidade</th>\n",
       "      <th>Saldo</th>\n",
       "    </tr>\n",
       "  </thead>\n",
       "  <tbody>\n",
       "    <tr>\n",
       "      <th>1</th>\n",
       "      <td>Ana</td>\n",
       "      <td>30</td>\n",
       "      <td>RJ</td>\n",
       "      <td>4100.0</td>\n",
       "    </tr>\n",
       "    <tr>\n",
       "      <th>3</th>\n",
       "      <td>Lucas</td>\n",
       "      <td>28</td>\n",
       "      <td>SP</td>\n",
       "      <td>5000.1</td>\n",
       "    </tr>\n",
       "  </tbody>\n",
       "</table>\n",
       "</div>"
      ],
      "text/plain": [
       "    Nome  Idade Cidade   Saldo\n",
       "1    Ana     30     RJ  4100.0\n",
       "3  Lucas     28     SP  5000.1"
      ]
     },
     "execution_count": 644,
     "metadata": {},
     "output_type": "execute_result"
    }
   ],
   "source": [
    "#linhas 1 e 3\n",
    "dados.loc[[1,3]]"
   ]
  },
  {
   "cell_type": "code",
   "execution_count": 645,
   "id": "00019a34",
   "metadata": {},
   "outputs": [
    {
     "data": {
      "text/html": [
       "<div>\n",
       "<style scoped>\n",
       "    .dataframe tbody tr th:only-of-type {\n",
       "        vertical-align: middle;\n",
       "    }\n",
       "\n",
       "    .dataframe tbody tr th {\n",
       "        vertical-align: top;\n",
       "    }\n",
       "\n",
       "    .dataframe thead th {\n",
       "        text-align: right;\n",
       "    }\n",
       "</style>\n",
       "<table border=\"1\" class=\"dataframe\">\n",
       "  <thead>\n",
       "    <tr style=\"text-align: right;\">\n",
       "      <th></th>\n",
       "      <th>Nome</th>\n",
       "      <th>Idade</th>\n",
       "      <th>Cidade</th>\n",
       "      <th>Saldo</th>\n",
       "    </tr>\n",
       "  </thead>\n",
       "  <tbody>\n",
       "    <tr>\n",
       "      <th>2</th>\n",
       "      <td>João</td>\n",
       "      <td>22</td>\n",
       "      <td>BH</td>\n",
       "      <td>2890.75</td>\n",
       "    </tr>\n",
       "  </tbody>\n",
       "</table>\n",
       "</div>"
      ],
      "text/plain": [
       "   Nome  Idade Cidade    Saldo\n",
       "2  João     22     BH  2890.75"
      ]
     },
     "execution_count": 645,
     "metadata": {},
     "output_type": "execute_result"
    }
   ],
   "source": [
    "#filtro\n",
    "dados.loc[dados['Nome'] == \"João\"]"
   ]
  },
  {
   "cell_type": "code",
   "execution_count": 646,
   "id": "370c7512",
   "metadata": {},
   "outputs": [
    {
     "data": {
      "text/html": [
       "<div>\n",
       "<style scoped>\n",
       "    .dataframe tbody tr th:only-of-type {\n",
       "        vertical-align: middle;\n",
       "    }\n",
       "\n",
       "    .dataframe tbody tr th {\n",
       "        vertical-align: top;\n",
       "    }\n",
       "\n",
       "    .dataframe thead th {\n",
       "        text-align: right;\n",
       "    }\n",
       "</style>\n",
       "<table border=\"1\" class=\"dataframe\">\n",
       "  <thead>\n",
       "    <tr style=\"text-align: right;\">\n",
       "      <th></th>\n",
       "      <th>Nome</th>\n",
       "      <th>Idade</th>\n",
       "      <th>Cidade</th>\n",
       "      <th>Saldo</th>\n",
       "    </tr>\n",
       "  </thead>\n",
       "  <tbody>\n",
       "    <tr>\n",
       "      <th>0</th>\n",
       "      <td>Vit</td>\n",
       "      <td>25</td>\n",
       "      <td>SP</td>\n",
       "      <td>3200.50</td>\n",
       "    </tr>\n",
       "    <tr>\n",
       "      <th>1</th>\n",
       "      <td>Ana</td>\n",
       "      <td>30</td>\n",
       "      <td>RJ</td>\n",
       "      <td>4100.00</td>\n",
       "    </tr>\n",
       "    <tr>\n",
       "      <th>2</th>\n",
       "      <td>João</td>\n",
       "      <td>22</td>\n",
       "      <td>BH</td>\n",
       "      <td>2890.75</td>\n",
       "    </tr>\n",
       "    <tr>\n",
       "      <th>3</th>\n",
       "      <td>Lucas</td>\n",
       "      <td>28</td>\n",
       "      <td>SP</td>\n",
       "      <td>5000.10</td>\n",
       "    </tr>\n",
       "    <tr>\n",
       "      <th>4</th>\n",
       "      <td>Maria</td>\n",
       "      <td>35</td>\n",
       "      <td>MG</td>\n",
       "      <td>3900.00</td>\n",
       "    </tr>\n",
       "  </tbody>\n",
       "</table>\n",
       "</div>"
      ],
      "text/plain": [
       "    Nome  Idade Cidade    Saldo\n",
       "0    Vit     25     SP  3200.50\n",
       "1    Ana     30     RJ  4100.00\n",
       "2   João     22     BH  2890.75\n",
       "3  Lucas     28     SP  5000.10\n",
       "4  Maria     35     MG  3900.00"
      ]
     },
     "execution_count": 646,
     "metadata": {},
     "output_type": "execute_result"
    }
   ],
   "source": [
    "#outra condição \n",
    "dados.loc[dados[\"Saldo\"] > 2800]"
   ]
  },
  {
   "cell_type": "code",
   "execution_count": 647,
   "id": "4dd0d021",
   "metadata": {},
   "outputs": [
    {
     "name": "stdout",
     "output_type": "stream",
     "text": [
      "    Nome  Idade Cidade    Saldo\n",
      "0    Vit     25     SP  3200.50\n",
      "1    Ana     30     RJ  4100.00\n",
      "2   João     22     BH  2890.75\n",
      "3  Lucas     28     SP  5000.10\n",
      "4  Maria     35     MG  3900.00\n"
     ]
    }
   ],
   "source": [
    "#atribuimos resultados a variavel, criando outro df\n",
    "Saldo2 = dados.loc[dados[\"Idade\"] > 15]\n",
    "print(Saldo2)"
   ]
  },
  {
   "cell_type": "code",
   "execution_count": 648,
   "id": "835a2d2a",
   "metadata": {},
   "outputs": [
    {
     "name": "stdout",
     "output_type": "stream",
     "text": [
      "  Cidade   Nome\n",
      "0     SP    Vit\n",
      "1     RJ    Ana\n",
      "3     SP  Lucas\n",
      "4     MG  Maria\n"
     ]
    }
   ],
   "source": [
    "#definimos so algumas colunas\n",
    "Saldo3 = dados[['Cidade', 'Nome']].loc[dados['Saldo'] > 3200]\n",
    "print(Saldo3)"
   ]
  },
  {
   "cell_type": "code",
   "execution_count": 649,
   "id": "f0063ded",
   "metadata": {},
   "outputs": [
    {
     "name": "stdout",
     "output_type": "stream",
     "text": [
      "0     2\n",
      "1     5\n",
      "2     3\n",
      "3    34\n",
      "4    54\n",
      "5    23\n",
      "6     1\n",
      "7    16\n",
      "dtype: int64\n"
     ]
    }
   ],
   "source": [
    "#series, unica coluna \n",
    "#pode ser criada a partir da listas, arrau do numpy ou coluna do dataframe\n",
    "s1 = pd.Series([2,5,3,34,54,23,1,16])\n",
    "print(s1)"
   ]
  },
  {
   "cell_type": "code",
   "execution_count": 650,
   "id": "021c684b",
   "metadata": {},
   "outputs": [
    {
     "name": "stdout",
     "output_type": "stream",
     "text": [
      "0     2\n",
      "1     5\n",
      "2     3\n",
      "3    34\n",
      "4    54\n",
      "5    23\n",
      "6     1\n",
      "7    16\n",
      "dtype: int32\n"
     ]
    }
   ],
   "source": [
    "#serie a partir de um array do numpy \n",
    "import numpy as np\n",
    "array1 = np.array([2,5,3,34,54,23,1,16])\n",
    "s2 = pd.Series(array1)\n",
    "print(s2)"
   ]
  },
  {
   "cell_type": "code",
   "execution_count": 651,
   "id": "37c160ba",
   "metadata": {},
   "outputs": [
    {
     "name": "stdout",
     "output_type": "stream",
     "text": [
      "0    SP\n",
      "1    RJ\n",
      "2    BH\n",
      "3    SP\n",
      "4    MG\n",
      "Name: Cidade, dtype: object\n"
     ]
    },
    {
     "data": {
      "text/plain": [
       "pandas.core.series.Series"
      ]
     },
     "execution_count": 651,
     "metadata": {},
     "output_type": "execute_result"
    }
   ],
   "source": [
    "#serie a partir de um dataframe\n",
    "s3 = dados[\"Cidade\"]\n",
    "print(s3)\n",
    "type(s3)"
   ]
  },
  {
   "cell_type": "code",
   "execution_count": 652,
   "id": "b6cad9eb",
   "metadata": {},
   "outputs": [
    {
     "data": {
      "text/plain": [
       "pandas.core.frame.DataFrame"
      ]
     },
     "execution_count": 652,
     "metadata": {},
     "output_type": "execute_result"
    }
   ],
   "source": [
    "#note a diferença, temos um data frame\n",
    "d4 = dados[[\"Cidade\"]]\n",
    "type(d4)"
   ]
  },
  {
   "cell_type": "code",
   "execution_count": 653,
   "id": "83229884",
   "metadata": {},
   "outputs": [
    {
     "data": {
      "text/html": [
       "<div>\n",
       "<style scoped>\n",
       "    .dataframe tbody tr th:only-of-type {\n",
       "        vertical-align: middle;\n",
       "    }\n",
       "\n",
       "    .dataframe tbody tr th {\n",
       "        vertical-align: top;\n",
       "    }\n",
       "\n",
       "    .dataframe thead th {\n",
       "        text-align: right;\n",
       "    }\n",
       "</style>\n",
       "<table border=\"1\" class=\"dataframe\">\n",
       "  <thead>\n",
       "    <tr style=\"text-align: right;\">\n",
       "      <th></th>\n",
       "      <th>Nome</th>\n",
       "      <th>Idade</th>\n",
       "      <th>Cidade</th>\n",
       "      <th>Banco</th>\n",
       "    </tr>\n",
       "  </thead>\n",
       "  <tbody>\n",
       "    <tr>\n",
       "      <th>0</th>\n",
       "      <td>Vit</td>\n",
       "      <td>25</td>\n",
       "      <td>SP</td>\n",
       "      <td>3200.50</td>\n",
       "    </tr>\n",
       "    <tr>\n",
       "      <th>1</th>\n",
       "      <td>Ana</td>\n",
       "      <td>30</td>\n",
       "      <td>RJ</td>\n",
       "      <td>4100.00</td>\n",
       "    </tr>\n",
       "    <tr>\n",
       "      <th>2</th>\n",
       "      <td>João</td>\n",
       "      <td>22</td>\n",
       "      <td>BH</td>\n",
       "      <td>2890.75</td>\n",
       "    </tr>\n",
       "    <tr>\n",
       "      <th>3</th>\n",
       "      <td>Lucas</td>\n",
       "      <td>28</td>\n",
       "      <td>SP</td>\n",
       "      <td>5000.10</td>\n",
       "    </tr>\n",
       "    <tr>\n",
       "      <th>4</th>\n",
       "      <td>Maria</td>\n",
       "      <td>35</td>\n",
       "      <td>MG</td>\n",
       "      <td>3900.00</td>\n",
       "    </tr>\n",
       "  </tbody>\n",
       "</table>\n",
       "</div>"
      ],
      "text/plain": [
       "    Nome  Idade Cidade    Banco\n",
       "0    Vit     25     SP  3200.50\n",
       "1    Ana     30     RJ  4100.00\n",
       "2   João     22     BH  2890.75\n",
       "3  Lucas     28     SP  5000.10\n",
       "4  Maria     35     MG  3900.00"
      ]
     },
     "execution_count": 653,
     "metadata": {},
     "output_type": "execute_result"
    }
   ],
   "source": [
    "#Renomear\n",
    "dados.rename(columns={\"Saldo\": \"Banco\"})"
   ]
  },
  {
   "cell_type": "code",
   "execution_count": 654,
   "id": "cd5b2d83",
   "metadata": {},
   "outputs": [
    {
     "data": {
      "text/html": [
       "<div>\n",
       "<style scoped>\n",
       "    .dataframe tbody tr th:only-of-type {\n",
       "        vertical-align: middle;\n",
       "    }\n",
       "\n",
       "    .dataframe tbody tr th {\n",
       "        vertical-align: top;\n",
       "    }\n",
       "\n",
       "    .dataframe thead th {\n",
       "        text-align: right;\n",
       "    }\n",
       "</style>\n",
       "<table border=\"1\" class=\"dataframe\">\n",
       "  <thead>\n",
       "    <tr style=\"text-align: right;\">\n",
       "      <th></th>\n",
       "      <th>Nome</th>\n",
       "      <th>Idade</th>\n",
       "      <th>Cidade</th>\n",
       "      <th>Saldo</th>\n",
       "    </tr>\n",
       "  </thead>\n",
       "  <tbody>\n",
       "    <tr>\n",
       "      <th>0</th>\n",
       "      <td>Vit</td>\n",
       "      <td>25</td>\n",
       "      <td>SP</td>\n",
       "      <td>3200.5</td>\n",
       "    </tr>\n",
       "  </tbody>\n",
       "</table>\n",
       "</div>"
      ],
      "text/plain": [
       "  Nome  Idade Cidade   Saldo\n",
       "0  Vit     25     SP  3200.5"
      ]
     },
     "execution_count": 654,
     "metadata": {},
     "output_type": "execute_result"
    }
   ],
   "source": [
    "#para a alteração não persiste \n",
    "dados.head(1)"
   ]
  },
  {
   "cell_type": "code",
   "execution_count": 655,
   "id": "6f2d46af",
   "metadata": {},
   "outputs": [],
   "source": [
    "#para persistir \n",
    "dados.rename(columns={\"Saldo\":\"Banco\"}, inplace=True)"
   ]
  },
  {
   "cell_type": "code",
   "execution_count": 656,
   "id": "ddfb4722",
   "metadata": {},
   "outputs": [
    {
     "data": {
      "text/html": [
       "<div>\n",
       "<style scoped>\n",
       "    .dataframe tbody tr th:only-of-type {\n",
       "        vertical-align: middle;\n",
       "    }\n",
       "\n",
       "    .dataframe tbody tr th {\n",
       "        vertical-align: top;\n",
       "    }\n",
       "\n",
       "    .dataframe thead th {\n",
       "        text-align: right;\n",
       "    }\n",
       "</style>\n",
       "<table border=\"1\" class=\"dataframe\">\n",
       "  <thead>\n",
       "    <tr style=\"text-align: right;\">\n",
       "      <th></th>\n",
       "      <th>Nome</th>\n",
       "      <th>Idade</th>\n",
       "      <th>Cidade</th>\n",
       "      <th>Banco</th>\n",
       "    </tr>\n",
       "  </thead>\n",
       "  <tbody>\n",
       "    <tr>\n",
       "      <th>0</th>\n",
       "      <td>Vit</td>\n",
       "      <td>25</td>\n",
       "      <td>SP</td>\n",
       "      <td>3200.5</td>\n",
       "    </tr>\n",
       "  </tbody>\n",
       "</table>\n",
       "</div>"
      ],
      "text/plain": [
       "  Nome  Idade Cidade   Banco\n",
       "0  Vit     25     SP  3200.5"
      ]
     },
     "execution_count": 656,
     "metadata": {},
     "output_type": "execute_result"
    }
   ],
   "source": [
    "dados.head(1)"
   ]
  },
  {
   "cell_type": "code",
   "execution_count": 657,
   "id": "349a1eb2",
   "metadata": {},
   "outputs": [
    {
     "name": "stdout",
     "output_type": "stream",
     "text": [
      "    Nome Cidade    Banco\n",
      "0    Vit     SP  3200.50\n",
      "1    Ana     RJ  4100.00\n",
      "2   João     BH  2890.75\n",
      "3  Lucas     SP  5000.10\n",
      "4  Maria     MG  3900.00\n"
     ]
    }
   ],
   "source": [
    "#excluir coluna\n",
    "dados.drop('Idade', axis=1, inplace=True)\n",
    "print(dados)"
   ]
  },
  {
   "cell_type": "code",
   "execution_count": 658,
   "id": "87a2ca93",
   "metadata": {},
   "outputs": [
    {
     "data": {
      "text/html": [
       "<div>\n",
       "<style scoped>\n",
       "    .dataframe tbody tr th:only-of-type {\n",
       "        vertical-align: middle;\n",
       "    }\n",
       "\n",
       "    .dataframe tbody tr th {\n",
       "        vertical-align: top;\n",
       "    }\n",
       "\n",
       "    .dataframe thead th {\n",
       "        text-align: right;\n",
       "    }\n",
       "</style>\n",
       "<table border=\"1\" class=\"dataframe\">\n",
       "  <thead>\n",
       "    <tr style=\"text-align: right;\">\n",
       "      <th></th>\n",
       "      <th>Nome</th>\n",
       "      <th>Cidade</th>\n",
       "      <th>Banco</th>\n",
       "    </tr>\n",
       "  </thead>\n",
       "  <tbody>\n",
       "    <tr>\n",
       "      <th>0</th>\n",
       "      <td>Vit</td>\n",
       "      <td>SP</td>\n",
       "      <td>3200.5</td>\n",
       "    </tr>\n",
       "  </tbody>\n",
       "</table>\n",
       "</div>"
      ],
      "text/plain": [
       "  Nome Cidade   Banco\n",
       "0  Vit     SP  3200.5"
      ]
     },
     "execution_count": 658,
     "metadata": {},
     "output_type": "execute_result"
    }
   ],
   "source": [
    "dados.head(1)"
   ]
  },
  {
   "cell_type": "code",
   "execution_count": 659,
   "id": "6246f287",
   "metadata": {},
   "outputs": [
    {
     "data": {
      "text/html": [
       "<div>\n",
       "<style scoped>\n",
       "    .dataframe tbody tr th:only-of-type {\n",
       "        vertical-align: middle;\n",
       "    }\n",
       "\n",
       "    .dataframe tbody tr th {\n",
       "        vertical-align: top;\n",
       "    }\n",
       "\n",
       "    .dataframe thead th {\n",
       "        text-align: right;\n",
       "    }\n",
       "</style>\n",
       "<table border=\"1\" class=\"dataframe\">\n",
       "  <thead>\n",
       "    <tr style=\"text-align: right;\">\n",
       "      <th></th>\n",
       "      <th>Nome</th>\n",
       "      <th>Cidade</th>\n",
       "      <th>Banco</th>\n",
       "    </tr>\n",
       "  </thead>\n",
       "  <tbody>\n",
       "    <tr>\n",
       "      <th>0</th>\n",
       "      <td>False</td>\n",
       "      <td>False</td>\n",
       "      <td>False</td>\n",
       "    </tr>\n",
       "    <tr>\n",
       "      <th>1</th>\n",
       "      <td>False</td>\n",
       "      <td>False</td>\n",
       "      <td>False</td>\n",
       "    </tr>\n",
       "    <tr>\n",
       "      <th>2</th>\n",
       "      <td>False</td>\n",
       "      <td>False</td>\n",
       "      <td>False</td>\n",
       "    </tr>\n",
       "    <tr>\n",
       "      <th>3</th>\n",
       "      <td>False</td>\n",
       "      <td>False</td>\n",
       "      <td>False</td>\n",
       "    </tr>\n",
       "    <tr>\n",
       "      <th>4</th>\n",
       "      <td>False</td>\n",
       "      <td>False</td>\n",
       "      <td>False</td>\n",
       "    </tr>\n",
       "  </tbody>\n",
       "</table>\n",
       "</div>"
      ],
      "text/plain": [
       "    Nome  Cidade  Banco\n",
       "0  False   False  False\n",
       "1  False   False  False\n",
       "2  False   False  False\n",
       "3  False   False  False\n",
       "4  False   False  False"
      ]
     },
     "execution_count": 659,
     "metadata": {},
     "output_type": "execute_result"
    }
   ],
   "source": [
    "#Verificar dados nulos\n",
    "dados.isnull()"
   ]
  },
  {
   "cell_type": "code",
   "execution_count": 660,
   "id": "a943cede",
   "metadata": {},
   "outputs": [
    {
     "data": {
      "text/plain": [
       "Nome      0\n",
       "Cidade    0\n",
       "Banco     0\n",
       "dtype: int64"
      ]
     },
     "execution_count": 660,
     "metadata": {},
     "output_type": "execute_result"
    }
   ],
   "source": [
    "#Verificar dados nulos\n",
    "dados.isnull().sum()"
   ]
  },
  {
   "cell_type": "code",
   "execution_count": 661,
   "id": "355dd4dc",
   "metadata": {},
   "outputs": [
    {
     "data": {
      "text/html": [
       "<div>\n",
       "<style scoped>\n",
       "    .dataframe tbody tr th:only-of-type {\n",
       "        vertical-align: middle;\n",
       "    }\n",
       "\n",
       "    .dataframe tbody tr th {\n",
       "        vertical-align: top;\n",
       "    }\n",
       "\n",
       "    .dataframe thead th {\n",
       "        text-align: right;\n",
       "    }\n",
       "</style>\n",
       "<table border=\"1\" class=\"dataframe\">\n",
       "  <thead>\n",
       "    <tr style=\"text-align: right;\">\n",
       "      <th></th>\n",
       "      <th>Nome</th>\n",
       "      <th>Cidade</th>\n",
       "      <th>Banco</th>\n",
       "    </tr>\n",
       "  </thead>\n",
       "  <tbody>\n",
       "    <tr>\n",
       "      <th>0</th>\n",
       "      <td>Vit</td>\n",
       "      <td>SP</td>\n",
       "      <td>3200.50</td>\n",
       "    </tr>\n",
       "    <tr>\n",
       "      <th>1</th>\n",
       "      <td>Ana</td>\n",
       "      <td>RJ</td>\n",
       "      <td>4100.00</td>\n",
       "    </tr>\n",
       "    <tr>\n",
       "      <th>2</th>\n",
       "      <td>João</td>\n",
       "      <td>BH</td>\n",
       "      <td>2890.75</td>\n",
       "    </tr>\n",
       "    <tr>\n",
       "      <th>3</th>\n",
       "      <td>Lucas</td>\n",
       "      <td>SP</td>\n",
       "      <td>5000.10</td>\n",
       "    </tr>\n",
       "    <tr>\n",
       "      <th>4</th>\n",
       "      <td>Maria</td>\n",
       "      <td>MG</td>\n",
       "      <td>3900.00</td>\n",
       "    </tr>\n",
       "  </tbody>\n",
       "</table>\n",
       "</div>"
      ],
      "text/plain": [
       "    Nome Cidade    Banco\n",
       "0    Vit     SP  3200.50\n",
       "1    Ana     RJ  4100.00\n",
       "2   João     BH  2890.75\n",
       "3  Lucas     SP  5000.10\n",
       "4  Maria     MG  3900.00"
      ]
     },
     "execution_count": 661,
     "metadata": {},
     "output_type": "execute_result"
    }
   ],
   "source": [
    "#retirar colunas com NaN\n",
    "dados.dropna()"
   ]
  },
  {
   "cell_type": "code",
   "execution_count": 662,
   "id": "ca762fbb",
   "metadata": {},
   "outputs": [],
   "source": [
    "#preencher dados faltantes\n",
    "dados['Cidade'].fillna(0, inplace= True)"
   ]
  },
  {
   "cell_type": "code",
   "execution_count": 663,
   "id": "9f918553",
   "metadata": {},
   "outputs": [
    {
     "data": {
      "text/html": [
       "<div>\n",
       "<style scoped>\n",
       "    .dataframe tbody tr th:only-of-type {\n",
       "        vertical-align: middle;\n",
       "    }\n",
       "\n",
       "    .dataframe tbody tr th {\n",
       "        vertical-align: top;\n",
       "    }\n",
       "\n",
       "    .dataframe thead th {\n",
       "        text-align: right;\n",
       "    }\n",
       "</style>\n",
       "<table border=\"1\" class=\"dataframe\">\n",
       "  <thead>\n",
       "    <tr style=\"text-align: right;\">\n",
       "      <th></th>\n",
       "      <th>Nome</th>\n",
       "      <th>Cidade</th>\n",
       "      <th>Banco</th>\n",
       "    </tr>\n",
       "  </thead>\n",
       "  <tbody>\n",
       "    <tr>\n",
       "      <th>0</th>\n",
       "      <td>Vit</td>\n",
       "      <td>SP</td>\n",
       "      <td>3200.50</td>\n",
       "    </tr>\n",
       "    <tr>\n",
       "      <th>1</th>\n",
       "      <td>Ana</td>\n",
       "      <td>RJ</td>\n",
       "      <td>4100.00</td>\n",
       "    </tr>\n",
       "    <tr>\n",
       "      <th>2</th>\n",
       "      <td>João</td>\n",
       "      <td>BH</td>\n",
       "      <td>2890.75</td>\n",
       "    </tr>\n",
       "  </tbody>\n",
       "</table>\n",
       "</div>"
      ],
      "text/plain": [
       "   Nome Cidade    Banco\n",
       "0   Vit     SP  3200.50\n",
       "1   Ana     RJ  4100.00\n",
       "2  João     BH  2890.75"
      ]
     },
     "execution_count": 663,
     "metadata": {},
     "output_type": "execute_result"
    }
   ],
   "source": [
    "#iloc\n",
    "dados.iloc[0:3, 0:3]"
   ]
  }
 ],
 "metadata": {
  "kernelspec": {
   "display_name": "base",
   "language": "python",
   "name": "python3"
  },
  "language_info": {
   "codemirror_mode": {
    "name": "ipython",
    "version": 3
   },
   "file_extension": ".py",
   "mimetype": "text/x-python",
   "name": "python",
   "nbconvert_exporter": "python",
   "pygments_lexer": "ipython3",
   "version": "3.9.13"
  }
 },
 "nbformat": 4,
 "nbformat_minor": 5
}
