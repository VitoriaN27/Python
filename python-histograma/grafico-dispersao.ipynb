{
 "cells": [
  {
   "cell_type": "code",
   "execution_count": 3,
   "id": "39dbd3c3",
   "metadata": {},
   "outputs": [],
   "source": [
    "#Importação \n",
    "import pandas as pd\n",
    "import matplotlib.pyplot as plt\n",
    "import seaborn as sns"
   ]
  },
  {
   "cell_type": "code",
   "execution_count": 4,
   "id": "4b9c2153",
   "metadata": {},
   "outputs": [
    {
     "data": {
      "text/html": [
       "<div>\n",
       "<style scoped>\n",
       "    .dataframe tbody tr th:only-of-type {\n",
       "        vertical-align: middle;\n",
       "    }\n",
       "\n",
       "    .dataframe tbody tr th {\n",
       "        vertical-align: top;\n",
       "    }\n",
       "\n",
       "    .dataframe thead th {\n",
       "        text-align: right;\n",
       "    }\n",
       "</style>\n",
       "<table border=\"1\" class=\"dataframe\">\n",
       "  <thead>\n",
       "    <tr style=\"text-align: right;\">\n",
       "      <th></th>\n",
       "      <th>Nome Comum</th>\n",
       "      <th>Nome Científico</th>\n",
       "      <th>Porte</th>\n",
       "      <th>Tipo de Folha</th>\n",
       "      <th>Tipo de Fruto</th>\n",
       "      <th>Ocorrência</th>\n",
       "      <th>Frequência</th>\n",
       "      <th>Altura (m)</th>\n",
       "    </tr>\n",
       "  </thead>\n",
       "  <tbody>\n",
       "    <tr>\n",
       "      <th>0</th>\n",
       "      <td>Ipê-amarelo</td>\n",
       "      <td>Handroanthus albus</td>\n",
       "      <td>Médio</td>\n",
       "      <td>Composta</td>\n",
       "      <td>Cápsula</td>\n",
       "      <td>Cerrado, Mata Atlântica</td>\n",
       "      <td>Comum</td>\n",
       "      <td>15</td>\n",
       "    </tr>\n",
       "    <tr>\n",
       "      <th>1</th>\n",
       "      <td>Jacarandá-mimoso</td>\n",
       "      <td>Jacaranda mimosifolia</td>\n",
       "      <td>Médio</td>\n",
       "      <td>Composta</td>\n",
       "      <td>Cápsula</td>\n",
       "      <td>Sudeste do Brasil</td>\n",
       "      <td>Comum</td>\n",
       "      <td>12</td>\n",
       "    </tr>\n",
       "    <tr>\n",
       "      <th>2</th>\n",
       "      <td>Pau-brasil</td>\n",
       "      <td>Paubrasilia echinata</td>\n",
       "      <td>Médio</td>\n",
       "      <td>Composta</td>\n",
       "      <td>Vagem</td>\n",
       "      <td>Mata Atlântica</td>\n",
       "      <td>Ameaçada</td>\n",
       "      <td>15</td>\n",
       "    </tr>\n",
       "    <tr>\n",
       "      <th>3</th>\n",
       "      <td>Jequitibá-rosa</td>\n",
       "      <td>Cariniana legalis</td>\n",
       "      <td>Grande</td>\n",
       "      <td>Simples</td>\n",
       "      <td>Cápsula</td>\n",
       "      <td>Mata Atlântica</td>\n",
       "      <td>Rara</td>\n",
       "      <td>40</td>\n",
       "    </tr>\n",
       "    <tr>\n",
       "      <th>4</th>\n",
       "      <td>Cajueiro</td>\n",
       "      <td>Anacardium occidentale</td>\n",
       "      <td>Pequeno</td>\n",
       "      <td>Simples</td>\n",
       "      <td>Pseudofruto (caju)</td>\n",
       "      <td>Caatinga, Litoral Brasileiro</td>\n",
       "      <td>Comum</td>\n",
       "      <td>8</td>\n",
       "    </tr>\n",
       "  </tbody>\n",
       "</table>\n",
       "</div>"
      ],
      "text/plain": [
       "         Nome Comum         Nome Científico    Porte Tipo de Folha  \\\n",
       "0       Ipê-amarelo      Handroanthus albus    Médio      Composta   \n",
       "1  Jacarandá-mimoso   Jacaranda mimosifolia    Médio      Composta   \n",
       "2        Pau-brasil    Paubrasilia echinata    Médio      Composta   \n",
       "3    Jequitibá-rosa       Cariniana legalis   Grande       Simples   \n",
       "4          Cajueiro  Anacardium occidentale  Pequeno       Simples   \n",
       "\n",
       "        Tipo de Fruto                    Ocorrência Frequência  Altura (m)  \n",
       "0             Cápsula       Cerrado, Mata Atlântica      Comum          15  \n",
       "1             Cápsula             Sudeste do Brasil      Comum          12  \n",
       "2               Vagem                Mata Atlântica   Ameaçada          15  \n",
       "3             Cápsula                Mata Atlântica       Rara          40  \n",
       "4  Pseudofruto (caju)  Caatinga, Litoral Brasileiro      Comum           8  "
      ]
     },
     "execution_count": 4,
     "metadata": {},
     "output_type": "execute_result"
    }
   ],
   "source": [
    "#carregando base de dados\n",
    "base = pd.read_csv('tree.csv')\n",
    "base.head()"
   ]
  },
  {
   "cell_type": "code",
   "execution_count": 7,
   "id": "065ce4e5",
   "metadata": {},
   "outputs": [
    {
     "data": {
      "text/plain": [
       "Text(0, 0.5, 'Altura (m)')"
      ]
     },
     "execution_count": 7,
     "metadata": {},
     "output_type": "execute_result"
    },
    {
     "data": {
      "image/png": "[encoded data removed]",
      "text/plain": [
       "<Figure size 640x480 with 1 Axes>"
      ]
     },
     "metadata": {},
     "output_type": "display_data"
    }
   ],
   "source": [
    "# Grafico de dispersão considerando o volume e a dispersão \n",
    "plt.scatter(\n",
    "    x=base[\"Porte\"],\n",
    "    y=base[\"Altura (m)\"],\n",
    "    color='#cc6666',\n",
    "    facecolors='None',\n",
    "    marker='.'\n",
    ")\n",
    "plt.title('Árvores')\n",
    "plt.xlabel('Porte')\n",
    "plt.ylabel('Altura (m)')"
   ]
  }
 ],
 "metadata": {
  "kernelspec": {
   "display_name": "venv",
   "language": "python",
   "name": "python3"
  },
  "language_info": {
   "codemirror_mode": {
    "name": "ipython",
    "version": 3
   },
   "file_extension": ".py",
   "mimetype": "text/x-python",
   "name": "python",
   "nbconvert_exporter": "python",
   "pygments_lexer": "ipython3",
   "version": "3.12.3"
  }
 },
 "nbformat": 4,
 "nbformat_minor": 5
}
