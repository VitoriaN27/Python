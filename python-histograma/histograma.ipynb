{
 "cells": [
  {
   "cell_type": "code",
   "execution_count": 22,
   "id": "d3e8abdb",
   "metadata": {},
   "outputs": [],
   "source": [
    "# importação das bibliotecas \n",
    "import pandas as pd \n",
    "import numpy as np\n",
    "import matplotlib.pyplot as plt"
   ]
  },
  {
   "cell_type": "code",
   "execution_count": 23,
   "id": "a9523a9d",
   "metadata": {},
   "outputs": [
    {
     "data": {
      "text/plain": [
       "(10, 8)"
      ]
     },
     "execution_count": 23,
     "metadata": {},
     "output_type": "execute_result"
    }
   ],
   "source": [
    "base = pd.read_csv('tree.csv')\n",
    "base.shape"
   ]
  },
  {
   "cell_type": "code",
   "execution_count": 24,
   "id": "a6935ea0",
   "metadata": {},
   "outputs": [
    {
     "data": {
      "text/html": [
       "<div>\n",
       "<style scoped>\n",
       "    .dataframe tbody tr th:only-of-type {\n",
       "        vertical-align: middle;\n",
       "    }\n",
       "\n",
       "    .dataframe tbody tr th {\n",
       "        vertical-align: top;\n",
       "    }\n",
       "\n",
       "    .dataframe thead th {\n",
       "        text-align: right;\n",
       "    }\n",
       "</style>\n",
       "<table border=\"1\" class=\"dataframe\">\n",
       "  <thead>\n",
       "    <tr style=\"text-align: right;\">\n",
       "      <th></th>\n",
       "      <th>Nome Comum</th>\n",
       "      <th>Nome Científico</th>\n",
       "      <th>Porte</th>\n",
       "      <th>Tipo de Folha</th>\n",
       "      <th>Tipo de Fruto</th>\n",
       "      <th>Ocorrência</th>\n",
       "      <th>Frequência</th>\n",
       "      <th>Altura (m)</th>\n",
       "    </tr>\n",
       "  </thead>\n",
       "  <tbody>\n",
       "    <tr>\n",
       "      <th>0</th>\n",
       "      <td>Ipê-amarelo</td>\n",
       "      <td>Handroanthus albus</td>\n",
       "      <td>Médio</td>\n",
       "      <td>Composta</td>\n",
       "      <td>Cápsula</td>\n",
       "      <td>Cerrado, Mata Atlântica</td>\n",
       "      <td>Comum</td>\n",
       "      <td>15</td>\n",
       "    </tr>\n",
       "    <tr>\n",
       "      <th>1</th>\n",
       "      <td>Jacarandá-mimoso</td>\n",
       "      <td>Jacaranda mimosifolia</td>\n",
       "      <td>Médio</td>\n",
       "      <td>Composta</td>\n",
       "      <td>Cápsula</td>\n",
       "      <td>Sudeste do Brasil</td>\n",
       "      <td>Comum</td>\n",
       "      <td>12</td>\n",
       "    </tr>\n",
       "    <tr>\n",
       "      <th>2</th>\n",
       "      <td>Pau-brasil</td>\n",
       "      <td>Paubrasilia echinata</td>\n",
       "      <td>Médio</td>\n",
       "      <td>Composta</td>\n",
       "      <td>Vagem</td>\n",
       "      <td>Mata Atlântica</td>\n",
       "      <td>Ameaçada</td>\n",
       "      <td>15</td>\n",
       "    </tr>\n",
       "    <tr>\n",
       "      <th>3</th>\n",
       "      <td>Jequitibá-rosa</td>\n",
       "      <td>Cariniana legalis</td>\n",
       "      <td>Grande</td>\n",
       "      <td>Simples</td>\n",
       "      <td>Cápsula</td>\n",
       "      <td>Mata Atlântica</td>\n",
       "      <td>Rara</td>\n",
       "      <td>40</td>\n",
       "    </tr>\n",
       "    <tr>\n",
       "      <th>4</th>\n",
       "      <td>Cajueiro</td>\n",
       "      <td>Anacardium occidentale</td>\n",
       "      <td>Pequeno</td>\n",
       "      <td>Simples</td>\n",
       "      <td>Pseudofruto (caju)</td>\n",
       "      <td>Caatinga, Litoral Brasileiro</td>\n",
       "      <td>Comum</td>\n",
       "      <td>8</td>\n",
       "    </tr>\n",
       "  </tbody>\n",
       "</table>\n",
       "</div>"
      ],
      "text/plain": [
       "         Nome Comum         Nome Científico    Porte Tipo de Folha  \\\n",
       "0       Ipê-amarelo      Handroanthus albus    Médio      Composta   \n",
       "1  Jacarandá-mimoso   Jacaranda mimosifolia    Médio      Composta   \n",
       "2        Pau-brasil    Paubrasilia echinata    Médio      Composta   \n",
       "3    Jequitibá-rosa       Cariniana legalis   Grande       Simples   \n",
       "4          Cajueiro  Anacardium occidentale  Pequeno       Simples   \n",
       "\n",
       "        Tipo de Fruto                    Ocorrência Frequência  Altura (m)  \n",
       "0             Cápsula       Cerrado, Mata Atlântica      Comum          15  \n",
       "1             Cápsula             Sudeste do Brasil      Comum          12  \n",
       "2               Vagem                Mata Atlântica   Ameaçada          15  \n",
       "3             Cápsula                Mata Atlântica       Rara          40  \n",
       "4  Pseudofruto (caju)  Caatinga, Litoral Brasileiro      Comum           8  "
      ]
     },
     "execution_count": 24,
     "metadata": {},
     "output_type": "execute_result"
    }
   ],
   "source": [
    "# dados\n",
    "base.head()"
   ]
  },
  {
   "cell_type": "code",
   "execution_count": 25,
   "id": "752e6984",
   "metadata": {},
   "outputs": [
    {
     "data": {
      "text/plain": [
       "(array([3, 3, 0, 2, 1, 1]), array([ 8., 15., 22., 29., 36., 43., 50.]))"
      ]
     },
     "execution_count": 25,
     "metadata": {},
     "output_type": "execute_result"
    }
   ],
   "source": [
    "#Criação de histograma, considerando somente o segundo atributo da base de dados e com duas divisões()\n",
    "# A variavel 'h' armazena as faixas de valores heights \n",
    "h = np.histogram(base[\"Altura (m)\"], bins=6)\n",
    "h"
   ]
  },
  {
   "cell_type": "code",
   "execution_count": 28,
   "id": "110f9846",
   "metadata": {},
   "outputs": [
    {
     "data": {
      "text/plain": [
       "Text(0.5, 0, 'Altura (m)')"
      ]
     },
     "execution_count": 28,
     "metadata": {},
     "output_type": "execute_result"
    },
    {
     "data": {
      "image/png": "[encoded data removed]",
      "text/plain": [
       "<Figure size 640x480 with 1 Axes>"
      ]
     },
     "metadata": {},
     "output_type": "display_data"
    }
   ],
   "source": [
    "# visualização do histograma com 6 divisões (bins)\n",
    "plt.hist(base[\"Altura (m)\"], bins=6)\n",
    "plt.title(\"Distribuição de Altura\")\n",
    "plt.ylabel(\"Frequência\")\n",
    "plt.xlabel(\"Altura (m)\")"
   ]
  }
 ],
 "metadata": {
  "kernelspec": {
   "display_name": "venv",
   "language": "python",
   "name": "python3"
  },
  "language_info": {
   "codemirror_mode": {
    "name": "ipython",
    "version": 3
   },
   "file_extension": ".py",
   "mimetype": "text/x-python",
   "name": "python",
   "nbconvert_exporter": "python",
   "pygments_lexer": "ipython3",
   "version": "3.12.3"
  }
 },
 "nbformat": 4,
 "nbformat_minor": 5
}
